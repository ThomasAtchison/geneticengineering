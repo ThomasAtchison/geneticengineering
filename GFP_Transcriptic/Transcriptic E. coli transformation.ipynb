{
 "cells": [
  {
   "cell_type": "markdown",
   "metadata": {},
   "source": [
    "A basic analysis of my results data downloaded from Transcriptic. \n",
    "The protocol was generated with [Autodesk Wet Lab Accelerator](https://wla.bionano.autodesk.com/#/). \n",
    "\n",
    "An *E. coli* strain (Zymo10B) is transformed with a luciferase-expressing plasmid (PVIB) in a 96 well plate. \n",
    "\n",
    "Each row (A-H) is identical and each column (1-6) is different:\n",
    "\n",
    "    [A-H]1 : E coli + PVIB + no amp broth\n",
    "    [A-H]2 : E coli + no PVIB + no amp broth\n",
    "    [A-H]3 : no amp broth\n",
    "    [A-H]4 : E coli + PVIB + amp broth (i.e., luciferase expression)\n",
    "    [A-H]5 : E coli + amp broth\n",
    "    [A-H]6 : amp broth\n",
    "\n",
    "For rows A-F, absorbance (OD600) and luminescence (to see luciferase expression) are captured once an hour for 18 hours.\n",
    "\n",
    "Rows G and H are transferred to two \"6-flat\" plates, one without amp (G), one with amp (H). \n",
    "For each of the two sets of 6 plates a photo is taken, then the plates are incubated for 18 hours, then another photo is taken."
   ]
  },
  {
   "cell_type": "code",
   "execution_count": 496,
   "metadata": {
    "collapsed": false
   },
   "outputs": [],
   "source": [
    "# Setup cell\n",
    "from __future__ import print_function, division\n",
    "\n",
    "import string\n",
    "import numpy as np\n",
    "import seaborn as sns\n",
    "import pandas as pd\n",
    "import matplotlib as mpl\n",
    "import matplotlib.pyplot as plt\n",
    "\n",
    "from functools import partial\n",
    "from IPython.display import display, HTML, SVG\n",
    "\n",
    "def uprint(astr): print(astr + \"\\n\" + \"-\"*len(astr))\n",
    "def show_html(astr): return display(HTML('{}'.format(astr)))\n",
    "def show_svg(astr, w=1000, h=1000):\n",
    "    SVG_HEAD = '''<?xml version=\"1.0\" standalone=\"no\"?><!DOCTYPE svg PUBLIC \"-//W3C//DTD SVG 1.1//EN\" \"http://www.w3.org/Graphics/SVG/1.1/DTD/svg11.dtd\">'''\n",
    "    SVG_START = '''<svg width=\"{w:}px\" height=\"{h:}px\" version=\"1.1\" xmlns=\"http://www.w3.org/2000/svg\" xmlns:xlink= \"http://www.w3.org/1999/xlink\">'''\n",
    "    return display(SVG(SVG_HEAD + SVG_START.format(w=w, h=h) + astr + '</svg>'))\n",
    "\n",
    "# Plotting style, matplotlib and seaborn\n",
    "plt.rc(\"axes\", titlesize=20, labelsize=15, linewidth=.25, edgecolor='#444444')\n",
    "sns.set_context(\"notebook\", font_scale=1.2, rc={})\n",
    "%matplotlib inline\n",
    "%config InlineBackend.figure_format = 'retina'"
   ]
  },
  {
   "cell_type": "markdown",
   "metadata": {},
   "source": [
    "Read in files\n",
    "=======\n",
    "Absorbance and luminescence files from all plates were downloaded as csv files from transcriptic."
   ]
  },
  {
   "cell_type": "code",
   "execution_count": 473,
   "metadata": {
    "collapsed": false
   },
   "outputs": [
    {
     "name": "stdout",
     "output_type": "stream",
     "text": [
      "18 absorbance files:   ['absorbance_18.csv', 'absorbance_43.csv', 'absorbance_68.csv', 'absorbance_93.csv']\n",
      "18 luminescence files: ['luminescence_19.csv', 'luminescence_44.csv', 'luminescence_69.csv', 'luminescence_94.csv']\n"
     ]
    }
   ],
   "source": [
    "import glob\n",
    "abs_files = sorted(glob.glob(\"absorbance_*.csv\"), key=lambda x: (len(x), x))\n",
    "lum_files = sorted(glob.glob(\"luminescence_*.csv\"), key=lambda x: (len(x), x))\n",
    "print(\"{} absorbance files:  \".format(len(abs_files)), abs_files[::5])\n",
    "print(\"{} luminescence files:\".format(len(lum_files)), lum_files[::5])"
   ]
  },
  {
   "cell_type": "markdown",
   "metadata": {},
   "source": [
    "Dataframes\n",
    "======\n",
    "Read absorbance and luminescence data into pandas dataframes. \n",
    "\n",
    "The time at which readings were taken is not included in the csv files (only another json file), but since I know readings were taken once per hour, I can simply increment the time myself."
   ]
  },
  {
   "cell_type": "code",
   "execution_count": 498,
   "metadata": {
    "collapsed": false
   },
   "outputs": [
    {
     "name": "stdout",
     "output_type": "stream",
     "text": [
      "   Time Well  OD 600:nanometer\n",
      "0     0   A1          0.047956\n",
      "1     0   A2          0.049607\n",
      "2     0   A3          0.046221\n",
      "3     0   A4          0.047077\n",
      "4     0   A5          0.048022\n",
      "\n",
      "     Time Well  Luminescence\n",
      "643    17   F2             5\n",
      "644    17   F3            18\n",
      "645    17   F4            12\n",
      "646    17   F5             5\n",
      "647    17   F6            19\n"
     ]
    }
   ],
   "source": [
    "import datetime\n",
    "\n",
    "abs_data = [pd.read_csv(abs_file, index_col=\"Well\") for abs_file in abs_files]\n",
    "lum_data = [pd.read_csv(lum_file, index_col=\"Well\") for lum_file in lum_files]\n",
    "\n",
    "times = range(len(abs_data)) # or get the true time from the json file\n",
    "\n",
    "# Each file is for a specific time. Concatenate all the files and reset the index\n",
    "df_abs = pd.concat(abs_data, keys=times, names=[\"Time\",\"Well\"])\n",
    "df_abs.reset_index(inplace=True)\n",
    "\n",
    "df_lum = pd.concat(lum_data, keys=times, names=[\"Time\",\"Well\"])\n",
    "df_lum.reset_index(inplace=True)\n",
    "\n",
    "print(df_abs.head())\n",
    "print()\n",
    "print(df_lum.tail())"
   ]
  },
  {
   "cell_type": "markdown",
   "metadata": {},
   "source": [
    "Plot\n",
    "===\n",
    "Plot absorbance and luminescence data for each of the 48 wells using SVG."
   ]
  },
  {
   "cell_type": "code",
   "execution_count": 493,
   "metadata": {
    "collapsed": true
   },
   "outputs": [],
   "source": [
    "well_params = {\"1\":[\"E coli\", \"PVIB\"], \"2\":[\"E coli\"], \"3\":[],\n",
    "               \"4\":[\"E coli\",\"PVIB\",\"amp\"], \"5\":[\"E coli\", \"amp\"], \"6\":[\"amp\"]}\n",
    "\n",
    "def to_coords(w, h, min_x, max_x, min_y, max_y, x, y): \n",
    "    return w*(x-min_x)/(max_x-min_x), h-h*(y-min_y)/(max_y-min_y)\n",
    "\n",
    "def plot_df(df, x_col, y_col, wh=100):\n",
    "    w, h = wh, wh\n",
    "    sw, sh = w*1.2, h*1.2\n",
    "    mx, my = w*.1, h*.1\n",
    "    \n",
    "    # min, max over all plates\n",
    "    min_x, max_x = df[x_col].min(), df[x_col].max()\n",
    "    min_y, max_y = df[y_col].min(), df[y_col].max()\n",
    "    wells = set(df[\"Well\"])\n",
    "    num_rows = 1 + max(string.uppercase.index(well[0]) for well in wells)\n",
    "    num_cols = max(int(well[1]) for well in wells)\n",
    "    \n",
    "    _to_coords = partial(to_coords, w, h, min_x, max_x, min_y, max_y)\n",
    "    \n",
    "    g = df.groupby(\"Well\")    \n",
    "    ssvg = '<g transform=\"translate({},{})\">'.format(w/2, h/2)\n",
    "    for n, (key, _df) in enumerate(g):\n",
    "        vals = _df[[x_col, y_col]].values\n",
    "        \n",
    "        cx = mx + sw * (int(key[1])-1) # well number (1-6) is the column\n",
    "        cy = my + sh * string.uppercase.index(key[0]) # well letter (A-F) is the row\n",
    "        \n",
    "        ssvg += '''<circle cx=\"{cx:f}\" cy=\"{cy:f}\" r=\"{r:f}\" stroke=\"rgba(0,0,0,.15)\" fill=\"none\" \n",
    "                   />'''.format(cx=cx, cy=cy, r=w/2)\n",
    "\n",
    "        # Text labels for the plates\n",
    "        ssvg += '''<text x=\"{cx:f}\" y=\"{cy:f}\" text-anchor=\"middle\" font-size=\"20\" fill=\"rgba(0,0,0,.25)\">{text:}\n",
    "                   </text>'''.format(cx=cx, cy=cy, text=key)\n",
    "\n",
    "        if \"E coli\" in well_params[key[1]]:\n",
    "            ssvg += '''<text x=\"{cx:f}\" y=\"{cy:f}\" text-anchor=\"middle\" font-size=\"12\" fill=\"rgba(0,200,0,.25)\">E coli\n",
    "                       </text>'''.format(cx=cx, cy=cy+12)\n",
    "\n",
    "        if \"PVIB\" in well_params[key[1]]:\n",
    "            ssvg += '''<text x=\"{cx:f}\" y=\"{cy:f}\" text-anchor=\"middle\" font-size=\"12\" fill=\"rgba(0,0,200,.25)\">PVIB\n",
    "                       </text>'''.format(cx=cx, cy=cy+24)\n",
    "\n",
    "        if \"amp\" in well_params[key[1]]:\n",
    "            ssvg += '''<text x=\"{cx:f}\" y=\"{cy:f}\" text-anchor=\"middle\" font-size=\"12\" fill=\"rgba(200,0,0,.25)\">amp\n",
    "                       </text>'''.format(cx=cx, cy=cy-24)\n",
    "\n",
    "        # Plot the absorbance/luminescence x/y values as a line\n",
    "        points = ' '.join(','.join(map(str, _to_coords(x,y))) for x,y in vals)\n",
    "        ssvg += '<g transform=\"translate({},{})\">'.format(cx-w*.5, cy-h*.5)\n",
    "        ssvg += '''<polyline points=\"{points:}\" style=\"fill:none;stroke:rgba(100,140,180,1);stroke-width:2\" \n",
    "                   />'''.format(points=points)\n",
    "        ssvg += '</g>'\n",
    "    \n",
    "    ssvg += '</g>'\n",
    "    show_html(\"<h1>{}</h1>\".format(y_col))\n",
    "    show_svg(ssvg, w=sw*num_cols, h=sh*num_rows)"
   ]
  },
  {
   "cell_type": "markdown",
   "metadata": {},
   "source": [
    "Absorbance\n",
    "=====\n",
    "The absorbance data shows the growth of the *E. coli* and generally looks good. \n",
    "We expect growth in columns 1 and 2 for sure, and column 4 if the transformation works.\n",
    "\n",
    "We see growth in columns 1 and 2, as expected. \n",
    "In three out of six wells in column 4 we see growth (i.e., 50% transformation efficiency). \n",
    "In these wells the *E. coli* have taken up PVIB so they can resist ampicillin."
   ]
  },
  {
   "cell_type": "code",
   "execution_count": 494,
   "metadata": {
    "collapsed": false
   },
   "outputs": [
    {
     "data": {
      "text/html": [
       "<h1>OD 600:nanometer</h1>"
      ],
      "text/plain": [
       "<IPython.core.display.HTML object>"
      ]
     },
     "metadata": {},
     "output_type": "display_data"
    },
    {
     "data": {
      "image/svg+xml": [
       "<svg height=\"720.0px\" version=\"1.1\" width=\"720.0px\" xmlns=\"http://www.w3.org/2000/svg\" xmlns:xlink=\"http://www.w3.org/1999/xlink\"><g transform=\"translate(50.0,50.0)\"><circle cx=\"10.000000\" cy=\"10.000000\" fill=\"none\" r=\"50.000000\" stroke=\"rgba(0,0,0,.15)\"/><text fill=\"rgba(0,0,0,.25)\" font-size=\"20\" text-anchor=\"middle\" x=\"10.000000\" y=\"10.000000\">A1\n",
       "                   </text><text fill=\"rgba(0,200,0,.25)\" font-size=\"12\" text-anchor=\"middle\" x=\"10.000000\" y=\"22.000000\">E coli\n",
       "                       </text><text fill=\"rgba(0,0,200,.25)\" font-size=\"12\" text-anchor=\"middle\" x=\"10.000000\" y=\"34.000000\">PVIB\n",
       "                       </text><g transform=\"translate(-40.0,-40.0)\"><polyline points=\"0.0,99.7839479181 5.88235294118,99.6575915377 11.7647058824,99.3627225275 17.6470588235,98.1124639726 23.5294117647,93.1373947926 29.4117647059,79.5287620793 35.2941176471,56.0215892836 41.1764705882,41.6605471533 47.0588235294,34.597614543 52.9411764706,30.87072877 58.8235294118,27.0731401286 64.7058823529,25.6600542542 70.5882352941,24.9330365157 76.4705882353,24.0957699896 82.3529411765,23.6922753771 88.2352941176,24.1182440173 94.1176470588,23.8831292354 100.0,24.8761503038\" style=\"fill:none;stroke:rgba(100,140,180,1);stroke-width:2\"/></g><circle cx=\"130.000000\" cy=\"10.000000\" fill=\"none\" r=\"50.000000\" stroke=\"rgba(0,0,0,.15)\"/><text fill=\"rgba(0,0,0,.25)\" font-size=\"20\" text-anchor=\"middle\" x=\"130.000000\" y=\"10.000000\">A2\n",
       "                   </text><text fill=\"rgba(0,200,0,.25)\" font-size=\"12\" text-anchor=\"middle\" x=\"130.000000\" y=\"22.000000\">E coli\n",
       "                       </text><g transform=\"translate(80.0,-40.0)\"><polyline points=\"0.0,99.5783318784 5.88235294118,99.3308881604 11.7647058824,99.1916178064 17.6470588235,98.0873548991 23.5294117647,93.4206973046 29.4117647059,80.0410866311 35.2941176471,60.1630474582 41.1764705882,46.5772161784 47.0588235294,39.6531039877 52.9411764706,35.1785392391 58.8235294118,32.2841162246 64.7058823529,29.6331995554 70.5882352941,27.8223802383 76.4705882353,29.0407924934 82.3529411765,30.5194271543 88.2352941176,29.9945168904 94.1176470588,29.0759981955 100.0,29.362035538\" style=\"fill:none;stroke:rgba(100,140,180,1);stroke-width:2\"/></g><circle cx=\"250.000000\" cy=\"10.000000\" fill=\"none\" r=\"50.000000\" stroke=\"rgba(0,0,0,.15)\"/><text fill=\"rgba(0,0,0,.25)\" font-size=\"20\" text-anchor=\"middle\" x=\"250.000000\" y=\"10.000000\">A3\n",
       "                   </text><g transform=\"translate(200.0,-40.0)\"><polyline points=\"0.0,100.0 5.88235294118,99.9928585611 11.7647058824,99.8646900774 17.6470588235,99.642381332 23.5294117647,99.7783992965 29.4117647059,99.8564268668 35.2941176471,99.9384908154 41.1764705882,99.8665525632 47.0588235294,99.7822570654 52.9411764706,99.8839110585 58.8235294118,99.9090803303 64.7058823529,99.8302596844 70.5882352941,99.8816455214 76.4705882353,99.8760035742 82.3529411765,99.697479161 88.2352941176,99.8571179763 94.1176470588,99.6808981028 100.0,99.8056802327\" style=\"fill:none;stroke:rgba(100,140,180,1);stroke-width:2\"/></g><circle cx=\"370.000000\" cy=\"10.000000\" fill=\"none\" r=\"50.000000\" stroke=\"rgba(0,0,0,.15)\"/><text fill=\"rgba(0,0,0,.25)\" font-size=\"20\" text-anchor=\"middle\" x=\"370.000000\" y=\"10.000000\">A4\n",
       "                   </text><text fill=\"rgba(0,200,0,.25)\" font-size=\"12\" text-anchor=\"middle\" x=\"370.000000\" y=\"22.000000\">E coli\n",
       "                       </text><text fill=\"rgba(0,0,200,.25)\" font-size=\"12\" text-anchor=\"middle\" x=\"370.000000\" y=\"34.000000\">PVIB\n",
       "                       </text><text fill=\"rgba(200,0,0,.25)\" font-size=\"12\" text-anchor=\"middle\" x=\"370.000000\" y=\"-14.000000\">amp\n",
       "                       </text><g transform=\"translate(320.0,-40.0)\"><polyline points=\"0.0,99.8934947025 5.88235294118,99.9051842262 11.7647058824,99.7903765221 17.6470588235,99.5915201339 23.5294117647,99.8564570818 29.4117647059,99.8470072694 35.2941176471,99.8472371663 41.1764705882,99.8353803464 47.0588235294,99.8288322366 52.9411764706,99.8250081576 58.8235294118,99.8260361516 64.7058823529,99.8220196717 70.5882352941,99.8145869805 76.4705882353,99.8174882809 82.3529411765,99.8182143794 88.2352941176,99.8094801826 94.1176470588,99.8169647872 100.0,99.8185606298\" style=\"fill:none;stroke:rgba(100,140,180,1);stroke-width:2\"/></g><circle cx=\"490.000000\" cy=\"10.000000\" fill=\"none\" r=\"50.000000\" stroke=\"rgba(0,0,0,.15)\"/><text fill=\"rgba(0,0,0,.25)\" font-size=\"20\" text-anchor=\"middle\" x=\"490.000000\" y=\"10.000000\">A5\n",
       "                   </text><text fill=\"rgba(0,200,0,.25)\" font-size=\"12\" text-anchor=\"middle\" x=\"490.000000\" y=\"22.000000\">E coli\n",
       "                       </text><text fill=\"rgba(200,0,0,.25)\" font-size=\"12\" text-anchor=\"middle\" x=\"490.000000\" y=\"-14.000000\">amp\n",
       "                       </text><g transform=\"translate(440.0,-40.0)\"><polyline points=\"0.0,99.7757681811 5.88235294118,99.6553743485 11.7647058824,99.637301407 17.6470588235,99.4173190346 23.5294117647,99.5165069429 29.4117647059,99.603057375 35.2941176471,99.587343784 41.1764705882,99.5769502418 47.0588235294,99.5763288918 52.9411764706,99.5681648359 58.8235294118,99.5628639535 64.7058823529,99.5686482424 70.5882352941,99.5597812941 76.4705882353,99.5587581971 82.3529411765,99.5664319246 88.2352941176,99.559676288 94.1176470588,99.5607298542 100.0,99.5576153353\" style=\"fill:none;stroke:rgba(100,140,180,1);stroke-width:2\"/></g><circle cx=\"610.000000\" cy=\"10.000000\" fill=\"none\" r=\"50.000000\" stroke=\"rgba(0,0,0,.15)\"/><text fill=\"rgba(0,0,0,.25)\" font-size=\"20\" text-anchor=\"middle\" x=\"610.000000\" y=\"10.000000\">A6\n",
       "                   </text><text fill=\"rgba(200,0,0,.25)\" font-size=\"12\" text-anchor=\"middle\" x=\"610.000000\" y=\"-14.000000\">amp\n",
       "                       </text><g transform=\"translate(560.0,-40.0)\"><polyline points=\"0.0,99.9258757825 5.88235294118,99.8980289802 11.7647058824,99.8928938286 17.6470588235,99.6901348407 23.5294117647,99.7203404379 29.4117647059,99.8386414418 35.2941176471,99.7780391803 41.1764705882,99.7695721169 47.0588235294,99.7625965482 52.9411764706,99.7516416446 58.8235294118,99.7415698965 64.7058823529,99.7371148998 70.5882352941,99.7265164086 76.4705882353,99.736887922 82.3529411765,99.7322746644 88.2352941176,99.7348733834 94.1176470588,99.7320896364 100.0,99.7360845753\" style=\"fill:none;stroke:rgba(100,140,180,1);stroke-width:2\"/></g><circle cx=\"10.000000\" cy=\"130.000000\" fill=\"none\" r=\"50.000000\" stroke=\"rgba(0,0,0,.15)\"/><text fill=\"rgba(0,0,0,.25)\" font-size=\"20\" text-anchor=\"middle\" x=\"10.000000\" y=\"130.000000\">B1\n",
       "                   </text><text fill=\"rgba(0,200,0,.25)\" font-size=\"12\" text-anchor=\"middle\" x=\"10.000000\" y=\"142.000000\">E coli\n",
       "                       </text><text fill=\"rgba(0,0,200,.25)\" font-size=\"12\" text-anchor=\"middle\" x=\"10.000000\" y=\"154.000000\">PVIB\n",
       "                       </text><g transform=\"translate(-40.0,80.0)\"><polyline points=\"0.0,99.5029083172 5.88235294118,99.4927119692 11.7647058824,99.1913779224 17.6470588235,98.1163757312 23.5294117647,93.6663059524 29.4117647059,80.4326885799 35.2941176471,58.9206606945 41.1764705882,43.9134403496 47.0588235294,36.5607916801 52.9411764706,25.8237952983 58.8235294118,23.9122649707 64.7058823529,33.5028679447 70.5882352941,32.7413128266 76.4705882353,32.5317919071 82.3529411765,30.8298221447 88.2352941176,25.9022486377 94.1176470588,23.3251061695 100.0,27.717355145\" style=\"fill:none;stroke:rgba(100,140,180,1);stroke-width:2\"/></g><circle cx=\"130.000000\" cy=\"130.000000\" fill=\"none\" r=\"50.000000\" stroke=\"rgba(0,0,0,.15)\"/><text fill=\"rgba(0,0,0,.25)\" font-size=\"20\" text-anchor=\"middle\" x=\"130.000000\" y=\"130.000000\">B2\n",
       "                   </text><text fill=\"rgba(0,200,0,.25)\" font-size=\"12\" text-anchor=\"middle\" x=\"130.000000\" y=\"142.000000\">E coli\n",
       "                       </text><g transform=\"translate(80.0,80.0)\"><polyline points=\"0.0,99.8359724383 5.88235294118,99.4389770946 11.7647058824,99.3275993853 17.6470588235,98.4742014312 23.5294117647,94.8601735641 29.4117647059,84.3487741666 35.2941176471,66.0441957059 41.1764705882,49.7656885466 47.0588235294,45.856530501 52.9411764706,40.9745989442 58.8235294118,38.3632744198 64.7058823529,36.717546529 70.5882352941,35.4873201723 76.4705882353,34.7373413212 82.3529411765,34.3852350259 88.2352941176,31.8626041693 94.1176470588,29.9475681626 100.0,28.1145939586\" style=\"fill:none;stroke:rgba(100,140,180,1);stroke-width:2\"/></g><circle cx=\"250.000000\" cy=\"130.000000\" fill=\"none\" r=\"50.000000\" stroke=\"rgba(0,0,0,.15)\"/><text fill=\"rgba(0,0,0,.25)\" font-size=\"20\" text-anchor=\"middle\" x=\"250.000000\" y=\"130.000000\">B3\n",
       "                   </text><g transform=\"translate(200.0,80.0)\"><polyline points=\"0.0,99.8560229122 5.88235294118,99.8698865396 11.7647058824,99.5029025373 17.6470588235,99.4437811639 23.5294117647,99.7386731935 29.4117647059,99.7697189517 35.2941176471,99.8162190958 41.1764705882,99.8059553575 47.0588235294,99.7975150267 52.9411764706,99.7870386503 58.8235294118,99.774651392 64.7058823529,99.7639900281 70.5882352941,99.7524798752 76.4705882353,99.7375540674 82.3529411765,99.719931865 88.2352941176,99.7029246459 94.1176470588,99.7079044354 100.0,99.696756436\" style=\"fill:none;stroke:rgba(100,140,180,1);stroke-width:2\"/></g><circle cx=\"370.000000\" cy=\"130.000000\" fill=\"none\" r=\"50.000000\" stroke=\"rgba(0,0,0,.15)\"/><text fill=\"rgba(0,0,0,.25)\" font-size=\"20\" text-anchor=\"middle\" x=\"370.000000\" y=\"130.000000\">B4\n",
       "                   </text><text fill=\"rgba(0,200,0,.25)\" font-size=\"12\" text-anchor=\"middle\" x=\"370.000000\" y=\"142.000000\">E coli\n",
       "                       </text><text fill=\"rgba(0,0,200,.25)\" font-size=\"12\" text-anchor=\"middle\" x=\"370.000000\" y=\"154.000000\">PVIB\n",
       "                       </text><text fill=\"rgba(200,0,0,.25)\" font-size=\"12\" text-anchor=\"middle\" x=\"370.000000\" y=\"106.000000\">amp\n",
       "                       </text><g transform=\"translate(320.0,80.0)\"><polyline points=\"0.0,99.6583857193 5.88235294118,99.6142205364 11.7647058824,99.4996814163 17.6470588235,99.2486026225 23.5294117647,99.5100578535 29.4117647059,99.5687836709 35.2941176471,99.5708501775 41.1764705882,99.5603928412 47.0588235294,99.5496884521 52.9411764706,99.5443891749 58.8235294118,99.5364785506 64.7058823529,99.5373248281 70.5882352941,99.5258470274 76.4705882353,99.5238989015 82.3529411765,99.5273937552 88.2352941176,99.5013440188 94.1176470588,99.5094560127 100.0,99.514170217\" style=\"fill:none;stroke:rgba(100,140,180,1);stroke-width:2\"/></g><circle cx=\"490.000000\" cy=\"130.000000\" fill=\"none\" r=\"50.000000\" stroke=\"rgba(0,0,0,.15)\"/><text fill=\"rgba(0,0,0,.25)\" font-size=\"20\" text-anchor=\"middle\" x=\"490.000000\" y=\"130.000000\">B5\n",
       "                   </text><text fill=\"rgba(0,200,0,.25)\" font-size=\"12\" text-anchor=\"middle\" x=\"490.000000\" y=\"142.000000\">E coli\n",
       "                       </text><text fill=\"rgba(200,0,0,.25)\" font-size=\"12\" text-anchor=\"middle\" x=\"490.000000\" y=\"106.000000\">amp\n",
       "                       </text><g transform=\"translate(440.0,80.0)\"><polyline points=\"0.0,99.4812562983 5.88235294118,99.5366607429 11.7647058824,99.4900201073 17.6470588235,99.4243374771 23.5294117647,99.120019006 29.4117647059,99.4923915911 35.2941176471,99.4877961552 41.1764705882,99.4673229801 47.0588235294,99.4674033832 52.9411764706,99.459750753 58.8235294118,99.4457081175 64.7058823529,99.4476662204 70.5882352941,99.4388154438 76.4705882353,99.4341207884 82.3529411765,99.4173606391 88.2352941176,99.3897677531 94.1176470588,99.1643312546 100.0,99.3941229831\" style=\"fill:none;stroke:rgba(100,140,180,1);stroke-width:2\"/></g><circle cx=\"610.000000\" cy=\"130.000000\" fill=\"none\" r=\"50.000000\" stroke=\"rgba(0,0,0,.15)\"/><text fill=\"rgba(0,0,0,.25)\" font-size=\"20\" text-anchor=\"middle\" x=\"610.000000\" y=\"130.000000\">B6\n",
       "                   </text><text fill=\"rgba(200,0,0,.25)\" font-size=\"12\" text-anchor=\"middle\" x=\"610.000000\" y=\"106.000000\">amp\n",
       "                       </text><g transform=\"translate(560.0,80.0)\"><polyline points=\"0.0,99.5806225882 5.88235294118,99.609861227 11.7647058824,99.592455771 17.6470588235,99.56595606 23.5294117647,99.2346295857 29.4117647059,99.5713954817 35.2941176471,99.5619542186 41.1764705882,99.5413266127 47.0588235294,99.5391120105 52.9411764706,99.5272355949 58.8235294118,99.5181059709 64.7058823529,99.5177887064 70.5882352941,99.5102945659 76.4705882353,99.5125775485 82.3529411765,99.4988049245 88.2352941176,99.4854732086 94.1176470588,99.4828399967 100.0,99.4870945192\" style=\"fill:none;stroke:rgba(100,140,180,1);stroke-width:2\"/></g><circle cx=\"10.000000\" cy=\"250.000000\" fill=\"none\" r=\"50.000000\" stroke=\"rgba(0,0,0,.15)\"/><text fill=\"rgba(0,0,0,.25)\" font-size=\"20\" text-anchor=\"middle\" x=\"10.000000\" y=\"250.000000\">C1\n",
       "                   </text><text fill=\"rgba(0,200,0,.25)\" font-size=\"12\" text-anchor=\"middle\" x=\"10.000000\" y=\"262.000000\">E coli\n",
       "                       </text><text fill=\"rgba(0,0,200,.25)\" font-size=\"12\" text-anchor=\"middle\" x=\"10.000000\" y=\"274.000000\">PVIB\n",
       "                       </text><g transform=\"translate(-40.0,200.0)\"><polyline points=\"0.0,99.9076762295 5.88235294118,99.8799651358 11.7647058824,99.8705313931 17.6470588235,99.8467002594 23.5294117647,99.7109576669 29.4117647059,99.2758864935 35.2941176471,97.7226571551 41.1764705882,91.6426614115 47.0588235294,78.2415989138 52.9411764706,56.5938057406 58.8235294118,43.2318958889 64.7058823529,37.1489289933 70.5882352941,30.9594311249 76.4705882353,28.3341759632 82.3529411765,27.2960206137 88.2352941176,26.2834196219 94.1176470588,19.9526303647 100.0,25.7436123975\" style=\"fill:none;stroke:rgba(100,140,180,1);stroke-width:2\"/></g><circle cx=\"130.000000\" cy=\"250.000000\" fill=\"none\" r=\"50.000000\" stroke=\"rgba(0,0,0,.15)\"/><text fill=\"rgba(0,0,0,.25)\" font-size=\"20\" text-anchor=\"middle\" x=\"130.000000\" y=\"250.000000\">C2\n",
       "                   </text><text fill=\"rgba(0,200,0,.25)\" font-size=\"12\" text-anchor=\"middle\" x=\"130.000000\" y=\"262.000000\">E coli\n",
       "                       </text><g transform=\"translate(80.0,200.0)\"><polyline points=\"0.0,99.6622706471 5.88235294118,99.0157286363 11.7647058824,99.5708792319 17.6470588235,99.6078795456 23.5294117647,99.3908726976 29.4117647059,98.6815186316 35.2941176471,96.1448077729 41.1764705882,87.5935100058 47.0588235294,71.6258246073 52.9411764706,52.7441452773 58.8235294118,44.5635583176 64.7058823529,39.9941901536 70.5882352941,36.4850616685 76.4705882353,33.8918043112 82.3529411765,31.8521935191 88.2352941176,29.9692860253 94.1176470588,27.1090337578 100.0,0.0\" style=\"fill:none;stroke:rgba(100,140,180,1);stroke-width:2\"/></g><circle cx=\"250.000000\" cy=\"250.000000\" fill=\"none\" r=\"50.000000\" stroke=\"rgba(0,0,0,.15)\"/><text fill=\"rgba(0,0,0,.25)\" font-size=\"20\" text-anchor=\"middle\" x=\"250.000000\" y=\"250.000000\">C3\n",
       "                   </text><g transform=\"translate(200.0,200.0)\"><polyline points=\"0.0,99.7152783737 5.88235294118,99.2291206899 11.7647058824,99.616982692 17.6470588235,99.5962141648 23.5294117647,99.6571836002 29.4117647059,99.674992331 35.2941176471,99.6419393475 41.1764705882,99.6327615789 47.0588235294,99.6190158843 52.9411764706,99.5998274975 58.8235294118,99.5883846101 64.7058823529,99.5849726108 70.5882352941,99.5777872117 76.4705882353,99.5644290579 82.3529411765,99.5690504981 88.2352941176,99.5527560227 94.1176470588,99.5629398827 100.0,99.5233531215\" style=\"fill:none;stroke:rgba(100,140,180,1);stroke-width:2\"/></g><circle cx=\"370.000000\" cy=\"250.000000\" fill=\"none\" r=\"50.000000\" stroke=\"rgba(0,0,0,.15)\"/><text fill=\"rgba(0,0,0,.25)\" font-size=\"20\" text-anchor=\"middle\" x=\"370.000000\" y=\"250.000000\">C4\n",
       "                   </text><text fill=\"rgba(0,200,0,.25)\" font-size=\"12\" text-anchor=\"middle\" x=\"370.000000\" y=\"262.000000\">E coli\n",
       "                       </text><text fill=\"rgba(0,0,200,.25)\" font-size=\"12\" text-anchor=\"middle\" x=\"370.000000\" y=\"274.000000\">PVIB\n",
       "                       </text><text fill=\"rgba(200,0,0,.25)\" font-size=\"12\" text-anchor=\"middle\" x=\"370.000000\" y=\"226.000000\">amp\n",
       "                       </text><g transform=\"translate(320.0,200.0)\"><polyline points=\"0.0,99.3928994711 5.88235294118,99.4570108239 11.7647058824,99.4896220509 17.6470588235,99.4770940842 23.5294117647,99.5391811012 29.4117647059,99.5391288293 35.2941176471,99.5190106613 41.1764705882,99.5102651391 47.0588235294,99.5169189639 52.9411764706,99.4968743021 58.8235294118,99.4830813819 64.7058823529,99.4881938976 70.5882352941,99.4831815106 76.4705882353,99.4769839663 82.3529411765,99.4617842713 88.2352941176,99.4391631999 94.1176470588,99.4338128062 100.0,99.3773146864\" style=\"fill:none;stroke:rgba(100,140,180,1);stroke-width:2\"/></g><circle cx=\"490.000000\" cy=\"250.000000\" fill=\"none\" r=\"50.000000\" stroke=\"rgba(0,0,0,.15)\"/><text fill=\"rgba(0,0,0,.25)\" font-size=\"20\" text-anchor=\"middle\" x=\"490.000000\" y=\"250.000000\">C5\n",
       "                   </text><text fill=\"rgba(0,200,0,.25)\" font-size=\"12\" text-anchor=\"middle\" x=\"490.000000\" y=\"262.000000\">E coli\n",
       "                       </text><text fill=\"rgba(200,0,0,.25)\" font-size=\"12\" text-anchor=\"middle\" x=\"490.000000\" y=\"226.000000\">amp\n",
       "                       </text><g transform=\"translate(440.0,200.0)\"><polyline points=\"0.0,99.7353964687 5.88235294118,99.696244498 11.7647058824,99.7388693093 17.6470588235,99.2527427214 23.5294117647,99.6295520849 29.4117647059,99.7147155545 35.2941176471,99.6863025231 41.1764705882,99.6770449418 47.0588235294,99.6751387483 52.9411764706,99.6600896822 58.8235294118,99.6563877062 64.7058823529,99.6571765759 70.5882352941,99.6431428768 76.4705882353,99.6498029167 82.3529411765,99.6281393045 88.2352941176,99.6222701927 94.1176470588,99.6121984791 100.0,99.6208189543\" style=\"fill:none;stroke:rgba(100,140,180,1);stroke-width:2\"/></g><circle cx=\"610.000000\" cy=\"250.000000\" fill=\"none\" r=\"50.000000\" stroke=\"rgba(0,0,0,.15)\"/><text fill=\"rgba(0,0,0,.25)\" font-size=\"20\" text-anchor=\"middle\" x=\"610.000000\" y=\"250.000000\">C6\n",
       "                   </text><text fill=\"rgba(200,0,0,.25)\" font-size=\"12\" text-anchor=\"middle\" x=\"610.000000\" y=\"226.000000\">amp\n",
       "                       </text><g transform=\"translate(560.0,200.0)\"><polyline points=\"0.0,99.3744645052 5.88235294118,99.3007737792 11.7647058824,99.467607418 17.6470588235,99.1735291445 23.5294117647,99.5407018922 29.4117647059,99.5243300407 35.2941176471,99.4665086636 41.1764705882,99.4600106924 47.0588235294,99.4365709895 52.9411764706,99.2733696346 58.8235294118,99.3226865611 64.7058823529,99.4680787355 70.5882352941,99.278964844 76.4705882353,99.2411565133 82.3529411765,99.4465118529 88.2352941176,99.4332585981 94.1176470588,99.4319698364 100.0,99.4397891594\" style=\"fill:none;stroke:rgba(100,140,180,1);stroke-width:2\"/></g><circle cx=\"10.000000\" cy=\"370.000000\" fill=\"none\" r=\"50.000000\" stroke=\"rgba(0,0,0,.15)\"/><text fill=\"rgba(0,0,0,.25)\" font-size=\"20\" text-anchor=\"middle\" x=\"10.000000\" y=\"370.000000\">D1\n",
       "                   </text><text fill=\"rgba(0,200,0,.25)\" font-size=\"12\" text-anchor=\"middle\" x=\"10.000000\" y=\"382.000000\">E coli\n",
       "                       </text><text fill=\"rgba(0,0,200,.25)\" font-size=\"12\" text-anchor=\"middle\" x=\"10.000000\" y=\"394.000000\">PVIB\n",
       "                       </text><g transform=\"translate(-40.0,320.0)\"><polyline points=\"0.0,94.8489000825 5.88235294118,79.9419596122 11.7647058824,56.080815686 17.6470588235,41.5583618535 23.5294117647,34.9188470433 29.4117647059,30.0086586129 35.2941176471,25.4432357226 41.1764705882,23.8196848092 47.0588235294,23.9287371266 52.9411764706,25.0429985032 58.8235294118,24.3808078348 64.7058823529,25.071543062 70.5882352941,27.4263334903 76.4705882353,29.4229061707 82.3529411765,31.4038995801 88.2352941176,32.5179010513 94.1176470588,33.5181536373 100.0,34.5491247459\" style=\"fill:none;stroke:rgba(100,140,180,1);stroke-width:2\"/></g><circle cx=\"130.000000\" cy=\"370.000000\" fill=\"none\" r=\"50.000000\" stroke=\"rgba(0,0,0,.15)\"/><text fill=\"rgba(0,0,0,.25)\" font-size=\"20\" text-anchor=\"middle\" x=\"130.000000\" y=\"370.000000\">D2\n",
       "                   </text><text fill=\"rgba(0,200,0,.25)\" font-size=\"12\" text-anchor=\"middle\" x=\"130.000000\" y=\"382.000000\">E coli\n",
       "                       </text><g transform=\"translate(80.0,320.0)\"><polyline points=\"0.0,93.4178563946 5.88235294118,79.6867291948 11.7647058824,61.357317217 17.6470588235,46.2039874519 23.5294117647,37.604400506 29.4117647059,31.4051183394 35.2941176471,26.2533158014 41.1764705882,23.21340247 47.0588235294,22.1627106244 52.9411764706,23.4113501357 58.8235294118,23.9481664977 64.7058823529,23.5580165619 70.5882352941,22.0384143163 76.4705882353,22.0337979711 82.3529411765,23.6425554841 88.2352941176,24.8484056803 94.1176470588,25.8532223079 100.0,26.7497268697\" style=\"fill:none;stroke:rgba(100,140,180,1);stroke-width:2\"/></g><circle cx=\"250.000000\" cy=\"370.000000\" fill=\"none\" r=\"50.000000\" stroke=\"rgba(0,0,0,.15)\"/><text fill=\"rgba(0,0,0,.25)\" font-size=\"20\" text-anchor=\"middle\" x=\"250.000000\" y=\"370.000000\">D3\n",
       "                   </text><g transform=\"translate(200.0,320.0)\"><polyline points=\"0.0,99.6578670179 5.88235294118,98.9934164436 11.7647058824,99.7783966198 17.6470588235,99.7998129407 23.5294117647,99.7780679343 29.4117647059,99.7494078726 35.2941176471,99.7278099762 41.1764705882,99.7079542902 47.0588235294,99.7066384179 52.9411764706,99.6793769015 58.8235294118,99.6729270591 64.7058823529,99.6674056477 70.5882352941,99.6617483538 76.4705882353,99.6627579058 82.3529411765,99.6460126804 88.2352941176,99.6264422815 94.1176470588,99.642990341 100.0,99.6347573685\" style=\"fill:none;stroke:rgba(100,140,180,1);stroke-width:2\"/></g><circle cx=\"370.000000\" cy=\"370.000000\" fill=\"none\" r=\"50.000000\" stroke=\"rgba(0,0,0,.15)\"/><text fill=\"rgba(0,0,0,.25)\" font-size=\"20\" text-anchor=\"middle\" x=\"370.000000\" y=\"370.000000\">D4\n",
       "                   </text><text fill=\"rgba(0,200,0,.25)\" font-size=\"12\" text-anchor=\"middle\" x=\"370.000000\" y=\"382.000000\">E coli\n",
       "                       </text><text fill=\"rgba(0,0,200,.25)\" font-size=\"12\" text-anchor=\"middle\" x=\"370.000000\" y=\"394.000000\">PVIB\n",
       "                       </text><text fill=\"rgba(200,0,0,.25)\" font-size=\"12\" text-anchor=\"middle\" x=\"370.000000\" y=\"346.000000\">amp\n",
       "                       </text><g transform=\"translate(320.0,320.0)\"><polyline points=\"0.0,95.9634835512 5.88235294118,93.5311842626 11.7647058824,92.4034555665 17.6470588235,92.1357036678 23.5294117647,91.3223311193 29.4117647059,94.1630510682 35.2941176471,95.2868025133 41.1764705882,95.4778544751 47.0588235294,95.0614644302 52.9411764706,92.1958995589 58.8235294118,84.265135452 64.7058823529,69.9953655823 70.5882352941,57.7454029086 76.4705882353,47.1840808849 82.3529411765,40.0787437217 88.2352941176,33.7325580794 94.1176470588,29.7036641827 100.0,27.7113742107\" style=\"fill:none;stroke:rgba(100,140,180,1);stroke-width:2\"/></g><circle cx=\"490.000000\" cy=\"370.000000\" fill=\"none\" r=\"50.000000\" stroke=\"rgba(0,0,0,.15)\"/><text fill=\"rgba(0,0,0,.25)\" font-size=\"20\" text-anchor=\"middle\" x=\"490.000000\" y=\"370.000000\">D5\n",
       "                   </text><text fill=\"rgba(0,200,0,.25)\" font-size=\"12\" text-anchor=\"middle\" x=\"490.000000\" y=\"382.000000\">E coli\n",
       "                       </text><text fill=\"rgba(200,0,0,.25)\" font-size=\"12\" text-anchor=\"middle\" x=\"490.000000\" y=\"346.000000\">amp\n",
       "                       </text><g transform=\"translate(440.0,320.0)\"><polyline points=\"0.0,96.0272311482 5.88235294118,93.4702309784 11.7647058824,92.2424206798 17.6470588235,91.4724891323 23.5294117647,90.6400682179 29.4117647059,90.7369735013 35.2941176471,92.2201027782 41.1764705882,92.73479197 47.0588235294,93.2639454676 52.9411764706,93.619485916 58.8235294118,94.8294168806 64.7058823529,96.444878764 70.5882352941,97.0166608829 76.4705882353,97.1282237905 82.3529411765,97.1522772889 88.2352941176,97.095017653 94.1176470588,97.0965529531 100.0,96.9834942726\" style=\"fill:none;stroke:rgba(100,140,180,1);stroke-width:2\"/></g><circle cx=\"610.000000\" cy=\"370.000000\" fill=\"none\" r=\"50.000000\" stroke=\"rgba(0,0,0,.15)\"/><text fill=\"rgba(0,0,0,.25)\" font-size=\"20\" text-anchor=\"middle\" x=\"610.000000\" y=\"370.000000\">D6\n",
       "                   </text><text fill=\"rgba(200,0,0,.25)\" font-size=\"12\" text-anchor=\"middle\" x=\"610.000000\" y=\"346.000000\">amp\n",
       "                       </text><g transform=\"translate(560.0,320.0)\"><polyline points=\"0.0,99.5090075875 5.88235294118,99.4276116638 11.7647058824,99.4284181875 17.6470588235,99.8036102811 23.5294117647,99.769009224 29.4117647059,99.7547009289 35.2941176471,99.7404227306 41.1764705882,99.7372332658 47.0588235294,99.7333160722 52.9411764706,99.7238239618 58.8235294118,99.7100576125 64.7058823529,99.7177756963 70.5882352941,99.7115564106 76.4705882353,99.7156923379 82.3529411765,99.7125395549 88.2352941176,99.7013560676 94.1176470588,99.6901803825 100.0,99.709345359\" style=\"fill:none;stroke:rgba(100,140,180,1);stroke-width:2\"/></g><circle cx=\"10.000000\" cy=\"490.000000\" fill=\"none\" r=\"50.000000\" stroke=\"rgba(0,0,0,.15)\"/><text fill=\"rgba(0,0,0,.25)\" font-size=\"20\" text-anchor=\"middle\" x=\"10.000000\" y=\"490.000000\">E1\n",
       "                   </text><text fill=\"rgba(0,200,0,.25)\" font-size=\"12\" text-anchor=\"middle\" x=\"10.000000\" y=\"502.000000\">E coli\n",
       "                       </text><text fill=\"rgba(0,0,200,.25)\" font-size=\"12\" text-anchor=\"middle\" x=\"10.000000\" y=\"514.000000\">PVIB\n",
       "                       </text><g transform=\"translate(-40.0,440.0)\"><polyline points=\"0.0,96.4372400382 5.88235294118,84.6331752118 11.7647058824,61.8387726739 17.6470588235,43.6993883008 23.5294117647,37.7055868236 29.4117647059,33.3914088549 35.2941176471,29.6741144329 41.1764705882,26.1950678965 47.0588235294,26.7138747299 52.9411764706,28.3098174411 58.8235294118,29.0983245269 64.7058823529,31.5634631842 70.5882352941,37.4125912009 76.4705882353,39.459135627 82.3529411765,38.8140496755 88.2352941176,39.4771259191 94.1176470588,37.0530593778 100.0,40.2567524438\" style=\"fill:none;stroke:rgba(100,140,180,1);stroke-width:2\"/></g><circle cx=\"130.000000\" cy=\"490.000000\" fill=\"none\" r=\"50.000000\" stroke=\"rgba(0,0,0,.15)\"/><text fill=\"rgba(0,0,0,.25)\" font-size=\"20\" text-anchor=\"middle\" x=\"130.000000\" y=\"490.000000\">E2\n",
       "                   </text><text fill=\"rgba(0,200,0,.25)\" font-size=\"12\" text-anchor=\"middle\" x=\"130.000000\" y=\"502.000000\">E coli\n",
       "                       </text><g transform=\"translate(80.0,440.0)\"><polyline points=\"0.0,95.5553728189 5.88235294118,86.2608810949 11.7647058824,65.8811513803 17.6470588235,48.2797507606 23.5294117647,40.834567822 29.4117647059,35.7784739719 35.2941176471,31.7511941141 41.1764705882,27.5222068829 47.0588235294,27.5239286326 52.9411764706,28.3106182222 58.8235294118,30.0821963183 64.7058823529,30.0191191861 70.5882352941,30.9762156412 76.4705882353,33.3245951997 82.3529411765,35.1520043881 88.2352941176,39.1109914884 94.1176470588,40.9827426847 100.0,40.542528642\" style=\"fill:none;stroke:rgba(100,140,180,1);stroke-width:2\"/></g><circle cx=\"250.000000\" cy=\"490.000000\" fill=\"none\" r=\"50.000000\" stroke=\"rgba(0,0,0,.15)\"/><text fill=\"rgba(0,0,0,.25)\" font-size=\"20\" text-anchor=\"middle\" x=\"250.000000\" y=\"490.000000\">E3\n",
       "                   </text><g transform=\"translate(200.0,440.0)\"><polyline points=\"0.0,99.5813059097 5.88235294118,99.7146385321 11.7647058824,99.7301296622 17.6470588235,99.7153953445 23.5294117647,99.6826881408 29.4117647059,99.6456621168 35.2941176471,99.6066962171 41.1764705882,99.6047333255 47.0588235294,99.602641438 52.9411764706,99.5784542425 58.8235294118,99.5669872078 64.7058823529,99.5407195056 70.5882352941,99.5408830321 76.4705882353,99.5230962329 82.3529411765,99.3031892898 88.2352941176,99.324241263 94.1176470588,99.4254427535 100.0,99.520944432\" style=\"fill:none;stroke:rgba(100,140,180,1);stroke-width:2\"/></g><circle cx=\"370.000000\" cy=\"490.000000\" fill=\"none\" r=\"50.000000\" stroke=\"rgba(0,0,0,.15)\"/><text fill=\"rgba(0,0,0,.25)\" font-size=\"20\" text-anchor=\"middle\" x=\"370.000000\" y=\"490.000000\">E4\n",
       "                   </text><text fill=\"rgba(0,200,0,.25)\" font-size=\"12\" text-anchor=\"middle\" x=\"370.000000\" y=\"502.000000\">E coli\n",
       "                       </text><text fill=\"rgba(0,0,200,.25)\" font-size=\"12\" text-anchor=\"middle\" x=\"370.000000\" y=\"514.000000\">PVIB\n",
       "                       </text><text fill=\"rgba(200,0,0,.25)\" font-size=\"12\" text-anchor=\"middle\" x=\"370.000000\" y=\"466.000000\">amp\n",
       "                       </text><g transform=\"translate(320.0,440.0)\"><polyline points=\"0.0,95.9631103701 5.88235294118,93.1109703872 11.7647058824,92.7307315441 17.6470588235,92.037048092 23.5294117647,92.529861407 29.4117647059,96.2771499623 35.2941176471,96.5621723014 41.1764705882,96.5039047323 47.0588235294,95.0775059317 52.9411764706,90.0740849914 58.8235294118,78.373361687 64.7058823529,62.0311460851 70.5882352941,49.6091008346 76.4705882353,40.7377473856 82.3529411765,34.059848958 88.2352941176,28.6579817953 94.1176470588,26.4522610106 100.0,25.0463342836\" style=\"fill:none;stroke:rgba(100,140,180,1);stroke-width:2\"/></g><circle cx=\"490.000000\" cy=\"490.000000\" fill=\"none\" r=\"50.000000\" stroke=\"rgba(0,0,0,.15)\"/><text fill=\"rgba(0,0,0,.25)\" font-size=\"20\" text-anchor=\"middle\" x=\"490.000000\" y=\"490.000000\">E5\n",
       "                   </text><text fill=\"rgba(0,200,0,.25)\" font-size=\"12\" text-anchor=\"middle\" x=\"490.000000\" y=\"502.000000\">E coli\n",
       "                       </text><text fill=\"rgba(200,0,0,.25)\" font-size=\"12\" text-anchor=\"middle\" x=\"490.000000\" y=\"466.000000\">amp\n",
       "                       </text><g transform=\"translate(440.0,440.0)\"><polyline points=\"0.0,95.9238938126 5.88235294118,92.4686692708 11.7647058824,91.2840225173 17.6470588235,90.5845170727 23.5294117647,89.512305793 29.4117647059,91.4523604874 35.2941176471,93.1542236041 41.1764705882,93.9612332814 47.0588235294,94.6346969456 52.9411764706,95.1616768403 58.8235294118,95.6648483524 64.7058823529,97.0103071678 70.5882352941,97.1822330987 76.4705882353,97.1968773665 82.3529411765,97.1340851284 88.2352941176,97.0247044082 94.1176470588,97.0258550194 100.0,96.9578656055\" style=\"fill:none;stroke:rgba(100,140,180,1);stroke-width:2\"/></g><circle cx=\"610.000000\" cy=\"490.000000\" fill=\"none\" r=\"50.000000\" stroke=\"rgba(0,0,0,.15)\"/><text fill=\"rgba(0,0,0,.25)\" font-size=\"20\" text-anchor=\"middle\" x=\"610.000000\" y=\"490.000000\">E6\n",
       "                   </text><text fill=\"rgba(200,0,0,.25)\" font-size=\"12\" text-anchor=\"middle\" x=\"610.000000\" y=\"466.000000\">amp\n",
       "                       </text><g transform=\"translate(560.0,440.0)\"><polyline points=\"0.0,99.5532348104 5.88235294118,99.1115900298 11.7647058824,99.5919177225 17.6470588235,99.5912190584 23.5294117647,99.5698029323 29.4117647059,99.5362490005 35.2941176471,99.5139867962 41.1764705882,99.5088502383 47.0588235294,99.5013003455 52.9411764706,99.4933761841 58.8235294118,99.4873787753 64.7058823529,99.480156726 70.5882352941,99.4835984789 76.4705882353,99.4878380822 82.3529411765,99.4759838225 88.2352941176,99.449999024 94.1176470588,99.4723407061 100.0,99.4714779066\" style=\"fill:none;stroke:rgba(100,140,180,1);stroke-width:2\"/></g><circle cx=\"10.000000\" cy=\"610.000000\" fill=\"none\" r=\"50.000000\" stroke=\"rgba(0,0,0,.15)\"/><text fill=\"rgba(0,0,0,.25)\" font-size=\"20\" text-anchor=\"middle\" x=\"10.000000\" y=\"610.000000\">F1\n",
       "                   </text><text fill=\"rgba(0,200,0,.25)\" font-size=\"12\" text-anchor=\"middle\" x=\"10.000000\" y=\"622.000000\">E coli\n",
       "                       </text><text fill=\"rgba(0,0,200,.25)\" font-size=\"12\" text-anchor=\"middle\" x=\"10.000000\" y=\"634.000000\">PVIB\n",
       "                       </text><g transform=\"translate(-40.0,560.0)\"><polyline points=\"0.0,96.5369227253 5.88235294118,85.9042022574 11.7647058824,63.3469417883 17.6470588235,43.4619837524 23.5294117647,38.0605146768 29.4117647059,34.0513220492 35.2941176471,30.7418146496 41.1764705882,27.8844799586 47.0588235294,26.6222135236 52.9411764706,26.3376848525 58.8235294118,25.0612270708 64.7058823529,25.1517256519 70.5882352941,27.693802715 76.4705882353,32.1336797493 82.3529411765,36.1793922765 88.2352941176,38.2355849258 94.1176470588,29.2737214549 100.0,30.8285213672\" style=\"fill:none;stroke:rgba(100,140,180,1);stroke-width:2\"/></g><circle cx=\"130.000000\" cy=\"610.000000\" fill=\"none\" r=\"50.000000\" stroke=\"rgba(0,0,0,.15)\"/><text fill=\"rgba(0,0,0,.25)\" font-size=\"20\" text-anchor=\"middle\" x=\"130.000000\" y=\"610.000000\">F2\n",
       "                   </text><text fill=\"rgba(0,200,0,.25)\" font-size=\"12\" text-anchor=\"middle\" x=\"130.000000\" y=\"622.000000\">E coli\n",
       "                       </text><g transform=\"translate(80.0,560.0)\"><polyline points=\"0.0,96.1644697861 5.88235294118,86.3120154065 11.7647058824,66.2522449343 17.6470588235,46.9436219628 23.5294117647,39.3192198076 29.4117647059,34.1616183381 35.2941176471,30.001440185 41.1764705882,26.0199617165 47.0588235294,25.6114187258 52.9411764706,26.9397616276 58.8235294118,30.0843071483 64.7058823529,30.484553008 70.5882352941,33.3085141435 76.4705882353,35.810086727 82.3529411765,38.4380600437 88.2352941176,38.7890752926 94.1176470588,40.0253473783 100.0,41.6852661762\" style=\"fill:none;stroke:rgba(100,140,180,1);stroke-width:2\"/></g><circle cx=\"250.000000\" cy=\"610.000000\" fill=\"none\" r=\"50.000000\" stroke=\"rgba(0,0,0,.15)\"/><text fill=\"rgba(0,0,0,.25)\" font-size=\"20\" text-anchor=\"middle\" x=\"250.000000\" y=\"610.000000\">F3\n",
       "                   </text><g transform=\"translate(200.0,560.0)\"><polyline points=\"0.0,99.6930272939 5.88235294118,99.7049375856 11.7647058824,99.6844338694 17.6470588235,99.6843549178 23.5294117647,99.647411714 29.4117647059,99.6216445408 35.2941176471,99.5766375802 41.1764705882,99.577543845 47.0588235294,99.5753013111 52.9411764706,99.552118951 58.8235294118,99.5538314136 64.7058823529,99.5614977914 70.5882352941,99.5576533376 76.4705882353,99.5487795556 82.3529411765,99.5280125307 88.2352941176,99.529380447 94.1176470588,99.5359032321 100.0,99.5283698706\" style=\"fill:none;stroke:rgba(100,140,180,1);stroke-width:2\"/></g><circle cx=\"370.000000\" cy=\"610.000000\" fill=\"none\" r=\"50.000000\" stroke=\"rgba(0,0,0,.15)\"/><text fill=\"rgba(0,0,0,.25)\" font-size=\"20\" text-anchor=\"middle\" x=\"370.000000\" y=\"610.000000\">F4\n",
       "                   </text><text fill=\"rgba(0,200,0,.25)\" font-size=\"12\" text-anchor=\"middle\" x=\"370.000000\" y=\"622.000000\">E coli\n",
       "                       </text><text fill=\"rgba(0,0,200,.25)\" font-size=\"12\" text-anchor=\"middle\" x=\"370.000000\" y=\"634.000000\">PVIB\n",
       "                       </text><text fill=\"rgba(200,0,0,.25)\" font-size=\"12\" text-anchor=\"middle\" x=\"370.000000\" y=\"586.000000\">amp\n",
       "                       </text><g transform=\"translate(320.0,560.0)\"><polyline points=\"0.0,97.0711620847 5.88235294118,97.120965201 11.7647058824,98.1593438471 17.6470588235,98.4402724555 23.5294117647,98.6230239777 29.4117647059,98.6449620164 35.2941176471,98.6065453428 41.1764705882,98.43397615 47.0588235294,97.6413956321 52.9411764706,93.8694086542 58.8235294118,82.3220866652 64.7058823529,58.8834162867 70.5882352941,41.1976498064 76.4705882353,34.1959374289 82.3529411765,29.5913851031 88.2352941176,25.5230131228 94.1176470588,21.6592656998 100.0,21.5181324144\" style=\"fill:none;stroke:rgba(100,140,180,1);stroke-width:2\"/></g><circle cx=\"490.000000\" cy=\"610.000000\" fill=\"none\" r=\"50.000000\" stroke=\"rgba(0,0,0,.15)\"/><text fill=\"rgba(0,0,0,.25)\" font-size=\"20\" text-anchor=\"middle\" x=\"490.000000\" y=\"610.000000\">F5\n",
       "                   </text><text fill=\"rgba(0,200,0,.25)\" font-size=\"12\" text-anchor=\"middle\" x=\"490.000000\" y=\"622.000000\">E coli\n",
       "                       </text><text fill=\"rgba(200,0,0,.25)\" font-size=\"12\" text-anchor=\"middle\" x=\"490.000000\" y=\"586.000000\">amp\n",
       "                       </text><g transform=\"translate(440.0,560.0)\"><polyline points=\"0.0,95.9469084126 5.88235294118,92.9132239935 11.7647058824,94.523050042 17.6470588235,95.1415914205 23.5294117647,94.7040910522 29.4117647059,95.6809938246 35.2941176471,96.035932739 41.1764705882,96.4215915609 47.0588235294,96.713568563 52.9411764706,97.0044771635 58.8235294118,97.107400919 64.7058823529,97.0806425552 70.5882352941,97.0347148582 76.4705882353,96.9333076308 82.3529411765,96.8758195339 88.2352941176,96.8064910506 94.1176470588,96.7216260065 100.0,96.7242324481\" style=\"fill:none;stroke:rgba(100,140,180,1);stroke-width:2\"/></g><circle cx=\"610.000000\" cy=\"610.000000\" fill=\"none\" r=\"50.000000\" stroke=\"rgba(0,0,0,.15)\"/><text fill=\"rgba(0,0,0,.25)\" font-size=\"20\" text-anchor=\"middle\" x=\"610.000000\" y=\"610.000000\">F6\n",
       "                   </text><text fill=\"rgba(200,0,0,.25)\" font-size=\"12\" text-anchor=\"middle\" x=\"610.000000\" y=\"586.000000\">amp\n",
       "                       </text><g transform=\"translate(560.0,560.0)\"><polyline points=\"0.0,99.6750440304 5.88235294118,99.6870724642 11.7647058824,99.6753157997 17.6470588235,99.6804795105 23.5294117647,99.6457502211 29.4117647059,99.6182062313 35.2941176471,99.6064243114 41.1764705882,99.6071298805 47.0588235294,99.6081868392 52.9411764706,99.5999122684 58.8235294118,99.5833119306 64.7058823529,99.5795193623 70.5882352941,99.5826585144 76.4705882353,99.5890015357 82.3529411765,99.5807954793 88.2352941176,99.5590483405 94.1176470588,99.5744663254 100.0,99.571901682\" style=\"fill:none;stroke:rgba(100,140,180,1);stroke-width:2\"/></g></g></svg>"
      ],
      "text/plain": [
       "<IPython.core.display.SVG object>"
      ]
     },
     "metadata": {},
     "output_type": "display_data"
    }
   ],
   "source": [
    "plot_df(df_abs, \"Time\", \"OD 600:nanometer\")"
   ]
  },
  {
   "cell_type": "markdown",
   "metadata": {},
   "source": [
    "Luminescence\n",
    "======\n",
    "The luminescence data show the success of the PVIB plasmid transforming *E. coli* and expressing luciferase.\n",
    "We only expect luminescence in column 4, since that is the only column with PVIB and ampicillin.\n",
    "We detect luminescence in only one of three transformed *E. coli*."
   ]
  },
  {
   "cell_type": "code",
   "execution_count": 482,
   "metadata": {
    "collapsed": false
   },
   "outputs": [
    {
     "data": {
      "text/html": [
       "<h1>Luminescence</h1>"
      ],
      "text/plain": [
       "<IPython.core.display.HTML object>"
      ]
     },
     "metadata": {},
     "output_type": "display_data"
    },
    {
     "data": {
      "image/svg+xml": [
       "<svg height=\"720.0px\" version=\"1.1\" width=\"720.0px\" xmlns=\"http://www.w3.org/2000/svg\" xmlns:xlink=\"http://www.w3.org/1999/xlink\"><g transform=\"translate(50.0,50.0)\"><circle cx=\"10.000000\" cy=\"10.000000\" fill=\"none\" r=\"50.000000\" stroke=\"rgba(0,0,0,.15)\"/><text fill=\"rgba(0,0,0,.25)\" font-size=\"20\" text-anchor=\"middle\" x=\"10.000000\" y=\"10.000000\">A1\n",
       "                   </text><text fill=\"rgba(0,200,0,.25)\" font-size=\"12\" text-anchor=\"middle\" x=\"10.000000\" y=\"22.000000\">E coli\n",
       "                       </text><text fill=\"rgba(0,0,200,.25)\" font-size=\"12\" text-anchor=\"middle\" x=\"10.000000\" y=\"34.000000\">PVIB\n",
       "                       </text><g transform=\"translate(-40.0,-40.0)\"><polyline points=\"0.0,94.5530726257 5.88235294118,97.0670391061 11.7647058824,95.530726257 17.6470588235,96.0893854749 23.5294117647,96.5083798883 29.4117647059,95.251396648 35.2941176471,100.0 41.1764705882,95.251396648 47.0588235294,96.6480446927 52.9411764706,97.4860335196 58.8235294118,96.0893854749 64.7058823529,97.3463687151 70.5882352941,97.2067039106 76.4705882353,95.3910614525 82.3529411765,96.0893854749 88.2352941176,99.1620111732 94.1176470588,94.8324022346 100.0,94.6927374302\" style=\"fill:none;stroke:rgba(100,140,180,1);stroke-width:2\"/></g><circle cx=\"130.000000\" cy=\"10.000000\" fill=\"none\" r=\"50.000000\" stroke=\"rgba(0,0,0,.15)\"/><text fill=\"rgba(0,0,0,.25)\" font-size=\"20\" text-anchor=\"middle\" x=\"130.000000\" y=\"10.000000\">A2\n",
       "                   </text><text fill=\"rgba(0,200,0,.25)\" font-size=\"12\" text-anchor=\"middle\" x=\"130.000000\" y=\"22.000000\">E coli\n",
       "                       </text><g transform=\"translate(80.0,-40.0)\"><polyline points=\"0.0,96.0893854749 5.88235294118,97.0670391061 11.7647058824,97.3463687151 17.6470588235,97.3463687151 23.5294117647,95.530726257 29.4117647059,96.2290502793 35.2941176471,97.2067039106 41.1764705882,95.6703910615 47.0588235294,96.6480446927 52.9411764706,97.3463687151 58.8235294118,96.2290502793 64.7058823529,96.5083798883 70.5882352941,95.9497206704 76.4705882353,97.625698324 82.3529411765,95.251396648 88.2352941176,97.2067039106 94.1176470588,96.6480446927 100.0,95.530726257\" style=\"fill:none;stroke:rgba(100,140,180,1);stroke-width:2\"/></g><circle cx=\"250.000000\" cy=\"10.000000\" fill=\"none\" r=\"50.000000\" stroke=\"rgba(0,0,0,.15)\"/><text fill=\"rgba(0,0,0,.25)\" font-size=\"20\" text-anchor=\"middle\" x=\"250.000000\" y=\"10.000000\">A3\n",
       "                   </text><g transform=\"translate(200.0,-40.0)\"><polyline points=\"0.0,94.9720670391 5.88235294118,96.6480446927 11.7647058824,95.6703910615 17.6470588235,95.8100558659 23.5294117647,96.9273743017 29.4117647059,97.905027933 35.2941176471,97.7653631285 41.1764705882,97.0670391061 47.0588235294,96.2290502793 52.9411764706,96.7877094972 58.8235294118,95.6703910615 64.7058823529,96.7877094972 70.5882352941,96.5083798883 76.4705882353,96.5083798883 82.3529411765,95.3910614525 88.2352941176,94.8324022346 94.1176470588,95.6703910615 100.0,95.530726257\" style=\"fill:none;stroke:rgba(100,140,180,1);stroke-width:2\"/></g><circle cx=\"370.000000\" cy=\"10.000000\" fill=\"none\" r=\"50.000000\" stroke=\"rgba(0,0,0,.15)\"/><text fill=\"rgba(0,0,0,.25)\" font-size=\"20\" text-anchor=\"middle\" x=\"370.000000\" y=\"10.000000\">A4\n",
       "                   </text><text fill=\"rgba(0,200,0,.25)\" font-size=\"12\" text-anchor=\"middle\" x=\"370.000000\" y=\"22.000000\">E coli\n",
       "                       </text><text fill=\"rgba(0,0,200,.25)\" font-size=\"12\" text-anchor=\"middle\" x=\"370.000000\" y=\"34.000000\">PVIB\n",
       "                       </text><text fill=\"rgba(200,0,0,.25)\" font-size=\"12\" text-anchor=\"middle\" x=\"370.000000\" y=\"-14.000000\">amp\n",
       "                       </text><g transform=\"translate(320.0,-40.0)\"><polyline points=\"0.0,94.1340782123 5.88235294118,97.2067039106 11.7647058824,96.3687150838 17.6470588235,96.6480446927 23.5294117647,96.2290502793 29.4117647059,95.251396648 35.2941176471,96.9273743017 41.1764705882,96.9273743017 47.0588235294,95.9497206704 52.9411764706,97.7653631285 58.8235294118,97.7653631285 64.7058823529,97.2067039106 70.5882352941,96.5083798883 76.4705882353,95.8100558659 82.3529411765,95.9497206704 88.2352941176,96.5083798883 94.1176470588,94.6927374302 100.0,94.9720670391\" style=\"fill:none;stroke:rgba(100,140,180,1);stroke-width:2\"/></g><circle cx=\"490.000000\" cy=\"10.000000\" fill=\"none\" r=\"50.000000\" stroke=\"rgba(0,0,0,.15)\"/><text fill=\"rgba(0,0,0,.25)\" font-size=\"20\" text-anchor=\"middle\" x=\"490.000000\" y=\"10.000000\">A5\n",
       "                   </text><text fill=\"rgba(0,200,0,.25)\" font-size=\"12\" text-anchor=\"middle\" x=\"490.000000\" y=\"22.000000\">E coli\n",
       "                       </text><text fill=\"rgba(200,0,0,.25)\" font-size=\"12\" text-anchor=\"middle\" x=\"490.000000\" y=\"-14.000000\">amp\n",
       "                       </text><g transform=\"translate(440.0,-40.0)\"><polyline points=\"0.0,94.5530726257 5.88235294118,95.9497206704 11.7647058824,95.9497206704 17.6470588235,96.7877094972 23.5294117647,96.0893854749 29.4117647059,95.3910614525 35.2941176471,97.2067039106 41.1764705882,96.5083798883 47.0588235294,96.9273743017 52.9411764706,97.4860335196 58.8235294118,96.6480446927 64.7058823529,98.0446927374 70.5882352941,96.6480446927 76.4705882353,96.5083798883 82.3529411765,96.2290502793 88.2352941176,96.6480446927 94.1176470588,95.6703910615 100.0,95.8100558659\" style=\"fill:none;stroke:rgba(100,140,180,1);stroke-width:2\"/></g><circle cx=\"610.000000\" cy=\"10.000000\" fill=\"none\" r=\"50.000000\" stroke=\"rgba(0,0,0,.15)\"/><text fill=\"rgba(0,0,0,.25)\" font-size=\"20\" text-anchor=\"middle\" x=\"610.000000\" y=\"10.000000\">A6\n",
       "                   </text><text fill=\"rgba(200,0,0,.25)\" font-size=\"12\" text-anchor=\"middle\" x=\"610.000000\" y=\"-14.000000\">amp\n",
       "                       </text><g transform=\"translate(560.0,-40.0)\"><polyline points=\"0.0,97.0670391061 5.88235294118,97.3463687151 11.7647058824,96.6480446927 17.6470588235,95.6703910615 23.5294117647,97.625698324 29.4117647059,94.8324022346 35.2941176471,98.1843575419 41.1764705882,97.3463687151 47.0588235294,97.0670391061 52.9411764706,97.7653631285 58.8235294118,97.0670391061 64.7058823529,97.3463687151 70.5882352941,96.5083798883 76.4705882353,96.2290502793 82.3529411765,95.3910614525 88.2352941176,96.0893854749 94.1176470588,97.0670391061 100.0,96.2290502793\" style=\"fill:none;stroke:rgba(100,140,180,1);stroke-width:2\"/></g><circle cx=\"10.000000\" cy=\"130.000000\" fill=\"none\" r=\"50.000000\" stroke=\"rgba(0,0,0,.15)\"/><text fill=\"rgba(0,0,0,.25)\" font-size=\"20\" text-anchor=\"middle\" x=\"10.000000\" y=\"130.000000\">B1\n",
       "                   </text><text fill=\"rgba(0,200,0,.25)\" font-size=\"12\" text-anchor=\"middle\" x=\"10.000000\" y=\"142.000000\">E coli\n",
       "                       </text><text fill=\"rgba(0,0,200,.25)\" font-size=\"12\" text-anchor=\"middle\" x=\"10.000000\" y=\"154.000000\">PVIB\n",
       "                       </text><g transform=\"translate(-40.0,80.0)\"><polyline points=\"0.0,95.9497206704 5.88235294118,96.6480446927 11.7647058824,96.3687150838 17.6470588235,96.0893854749 23.5294117647,95.9497206704 29.4117647059,96.7877094972 35.2941176471,98.0446927374 41.1764705882,97.3463687151 47.0588235294,95.6703910615 52.9411764706,97.7653631285 58.8235294118,97.2067039106 64.7058823529,97.4860335196 70.5882352941,95.1117318436 76.4705882353,97.3463687151 82.3529411765,97.0670391061 88.2352941176,97.4860335196 94.1176470588,95.9497206704 100.0,96.7877094972\" style=\"fill:none;stroke:rgba(100,140,180,1);stroke-width:2\"/></g><circle cx=\"130.000000\" cy=\"130.000000\" fill=\"none\" r=\"50.000000\" stroke=\"rgba(0,0,0,.15)\"/><text fill=\"rgba(0,0,0,.25)\" font-size=\"20\" text-anchor=\"middle\" x=\"130.000000\" y=\"130.000000\">B2\n",
       "                   </text><text fill=\"rgba(0,200,0,.25)\" font-size=\"12\" text-anchor=\"middle\" x=\"130.000000\" y=\"142.000000\">E coli\n",
       "                       </text><g transform=\"translate(80.0,80.0)\"><polyline points=\"0.0,95.8100558659 5.88235294118,97.2067039106 11.7647058824,94.4134078212 17.6470588235,98.4636871508 23.5294117647,97.3463687151 29.4117647059,96.9273743017 35.2941176471,95.8100558659 41.1764705882,97.4860335196 47.0588235294,97.0670391061 52.9411764706,97.2067039106 58.8235294118,96.3687150838 64.7058823529,96.9273743017 70.5882352941,95.6703910615 76.4705882353,95.9497206704 82.3529411765,95.251396648 88.2352941176,96.2290502793 94.1176470588,95.9497206704 100.0,95.251396648\" style=\"fill:none;stroke:rgba(100,140,180,1);stroke-width:2\"/></g><circle cx=\"250.000000\" cy=\"130.000000\" fill=\"none\" r=\"50.000000\" stroke=\"rgba(0,0,0,.15)\"/><text fill=\"rgba(0,0,0,.25)\" font-size=\"20\" text-anchor=\"middle\" x=\"250.000000\" y=\"130.000000\">B3\n",
       "                   </text><g transform=\"translate(200.0,80.0)\"><polyline points=\"0.0,94.8324022346 5.88235294118,96.7877094972 11.7647058824,96.3687150838 17.6470588235,96.9273743017 23.5294117647,96.2290502793 29.4117647059,96.6480446927 35.2941176471,98.1843575419 41.1764705882,96.3687150838 47.0588235294,95.8100558659 52.9411764706,97.625698324 58.8235294118,96.2290502793 64.7058823529,95.6703910615 70.5882352941,97.3463687151 76.4705882353,97.0670391061 82.3529411765,94.8324022346 88.2352941176,96.9273743017 94.1176470588,95.3910614525 100.0,93.9944134078\" style=\"fill:none;stroke:rgba(100,140,180,1);stroke-width:2\"/></g><circle cx=\"370.000000\" cy=\"130.000000\" fill=\"none\" r=\"50.000000\" stroke=\"rgba(0,0,0,.15)\"/><text fill=\"rgba(0,0,0,.25)\" font-size=\"20\" text-anchor=\"middle\" x=\"370.000000\" y=\"130.000000\">B4\n",
       "                   </text><text fill=\"rgba(0,200,0,.25)\" font-size=\"12\" text-anchor=\"middle\" x=\"370.000000\" y=\"142.000000\">E coli\n",
       "                       </text><text fill=\"rgba(0,0,200,.25)\" font-size=\"12\" text-anchor=\"middle\" x=\"370.000000\" y=\"154.000000\">PVIB\n",
       "                       </text><text fill=\"rgba(200,0,0,.25)\" font-size=\"12\" text-anchor=\"middle\" x=\"370.000000\" y=\"106.000000\">amp\n",
       "                       </text><g transform=\"translate(320.0,80.0)\"><polyline points=\"0.0,97.625698324 5.88235294118,96.6480446927 11.7647058824,95.9497206704 17.6470588235,93.9944134078 23.5294117647,97.0670391061 29.4117647059,97.2067039106 35.2941176471,96.3687150838 41.1764705882,94.6927374302 47.0588235294,98.0446927374 52.9411764706,96.5083798883 58.8235294118,96.7877094972 64.7058823529,97.2067039106 70.5882352941,97.0670391061 76.4705882353,97.0670391061 82.3529411765,96.5083798883 88.2352941176,95.9497206704 94.1176470588,96.0893854749 100.0,93.7150837989\" style=\"fill:none;stroke:rgba(100,140,180,1);stroke-width:2\"/></g><circle cx=\"490.000000\" cy=\"130.000000\" fill=\"none\" r=\"50.000000\" stroke=\"rgba(0,0,0,.15)\"/><text fill=\"rgba(0,0,0,.25)\" font-size=\"20\" text-anchor=\"middle\" x=\"490.000000\" y=\"130.000000\">B5\n",
       "                   </text><text fill=\"rgba(0,200,0,.25)\" font-size=\"12\" text-anchor=\"middle\" x=\"490.000000\" y=\"142.000000\">E coli\n",
       "                       </text><text fill=\"rgba(200,0,0,.25)\" font-size=\"12\" text-anchor=\"middle\" x=\"490.000000\" y=\"106.000000\">amp\n",
       "                       </text><g transform=\"translate(440.0,80.0)\"><polyline points=\"0.0,96.3687150838 5.88235294118,97.2067039106 11.7647058824,97.625698324 17.6470588235,96.2290502793 23.5294117647,96.3687150838 29.4117647059,97.0670391061 35.2941176471,96.9273743017 41.1764705882,96.3687150838 47.0588235294,95.251396648 52.9411764706,96.5083798883 58.8235294118,97.2067039106 64.7058823529,97.625698324 70.5882352941,97.7653631285 76.4705882353,95.9497206704 82.3529411765,94.2737430168 88.2352941176,96.6480446927 94.1176470588,96.5083798883 100.0,95.251396648\" style=\"fill:none;stroke:rgba(100,140,180,1);stroke-width:2\"/></g><circle cx=\"610.000000\" cy=\"130.000000\" fill=\"none\" r=\"50.000000\" stroke=\"rgba(0,0,0,.15)\"/><text fill=\"rgba(0,0,0,.25)\" font-size=\"20\" text-anchor=\"middle\" x=\"610.000000\" y=\"130.000000\">B6\n",
       "                   </text><text fill=\"rgba(200,0,0,.25)\" font-size=\"12\" text-anchor=\"middle\" x=\"610.000000\" y=\"106.000000\">amp\n",
       "                       </text><g transform=\"translate(560.0,80.0)\"><polyline points=\"0.0,94.2737430168 5.88235294118,97.0670391061 11.7647058824,95.8100558659 17.6470588235,95.3910614525 23.5294117647,96.0893854749 29.4117647059,95.6703910615 35.2941176471,97.3463687151 41.1764705882,96.7877094972 47.0588235294,95.9497206704 52.9411764706,97.625698324 58.8235294118,96.7877094972 64.7058823529,97.2067039106 70.5882352941,97.3463687151 76.4705882353,96.0893854749 82.3529411765,95.8100558659 88.2352941176,96.7877094972 94.1176470588,95.1117318436 100.0,96.0893854749\" style=\"fill:none;stroke:rgba(100,140,180,1);stroke-width:2\"/></g><circle cx=\"10.000000\" cy=\"250.000000\" fill=\"none\" r=\"50.000000\" stroke=\"rgba(0,0,0,.15)\"/><text fill=\"rgba(0,0,0,.25)\" font-size=\"20\" text-anchor=\"middle\" x=\"10.000000\" y=\"250.000000\">C1\n",
       "                   </text><text fill=\"rgba(0,200,0,.25)\" font-size=\"12\" text-anchor=\"middle\" x=\"10.000000\" y=\"262.000000\">E coli\n",
       "                       </text><text fill=\"rgba(0,0,200,.25)\" font-size=\"12\" text-anchor=\"middle\" x=\"10.000000\" y=\"274.000000\">PVIB\n",
       "                       </text><g transform=\"translate(-40.0,200.0)\"><polyline points=\"0.0,95.9497206704 5.88235294118,95.9497206704 11.7647058824,95.251396648 17.6470588235,95.9497206704 23.5294117647,96.6480446927 29.4117647059,95.6703910615 35.2941176471,97.625698324 41.1764705882,97.7653631285 47.0588235294,96.7877094972 52.9411764706,98.0446927374 58.8235294118,96.6480446927 64.7058823529,95.530726257 70.5882352941,95.1117318436 76.4705882353,96.5083798883 82.3529411765,96.2290502793 88.2352941176,97.2067039106 94.1176470588,95.8100558659 100.0,96.2290502793\" style=\"fill:none;stroke:rgba(100,140,180,1);stroke-width:2\"/></g><circle cx=\"130.000000\" cy=\"250.000000\" fill=\"none\" r=\"50.000000\" stroke=\"rgba(0,0,0,.15)\"/><text fill=\"rgba(0,0,0,.25)\" font-size=\"20\" text-anchor=\"middle\" x=\"130.000000\" y=\"250.000000\">C2\n",
       "                   </text><text fill=\"rgba(0,200,0,.25)\" font-size=\"12\" text-anchor=\"middle\" x=\"130.000000\" y=\"262.000000\">E coli\n",
       "                       </text><g transform=\"translate(80.0,200.0)\"><polyline points=\"0.0,96.2290502793 5.88235294118,96.0893854749 11.7647058824,97.2067039106 17.6470588235,96.2290502793 23.5294117647,97.4860335196 29.4117647059,96.3687150838 35.2941176471,96.3687150838 41.1764705882,97.3463687151 47.0588235294,97.2067039106 52.9411764706,96.3687150838 58.8235294118,96.6480446927 64.7058823529,96.6480446927 70.5882352941,95.8100558659 76.4705882353,97.2067039106 82.3529411765,96.7877094972 88.2352941176,95.9497206704 94.1176470588,97.2067039106 100.0,94.6927374302\" style=\"fill:none;stroke:rgba(100,140,180,1);stroke-width:2\"/></g><circle cx=\"250.000000\" cy=\"250.000000\" fill=\"none\" r=\"50.000000\" stroke=\"rgba(0,0,0,.15)\"/><text fill=\"rgba(0,0,0,.25)\" font-size=\"20\" text-anchor=\"middle\" x=\"250.000000\" y=\"250.000000\">C3\n",
       "                   </text><g transform=\"translate(200.0,200.0)\"><polyline points=\"0.0,94.8324022346 5.88235294118,95.9497206704 11.7647058824,95.8100558659 17.6470588235,95.530726257 23.5294117647,97.2067039106 29.4117647059,95.6703910615 35.2941176471,97.4860335196 41.1764705882,95.6703910615 47.0588235294,96.6480446927 52.9411764706,96.3687150838 58.8235294118,95.530726257 64.7058823529,96.2290502793 70.5882352941,96.3687150838 76.4705882353,97.0670391061 82.3529411765,96.5083798883 88.2352941176,97.3463687151 94.1176470588,95.6703910615 100.0,94.9720670391\" style=\"fill:none;stroke:rgba(100,140,180,1);stroke-width:2\"/></g><circle cx=\"370.000000\" cy=\"250.000000\" fill=\"none\" r=\"50.000000\" stroke=\"rgba(0,0,0,.15)\"/><text fill=\"rgba(0,0,0,.25)\" font-size=\"20\" text-anchor=\"middle\" x=\"370.000000\" y=\"250.000000\">C4\n",
       "                   </text><text fill=\"rgba(0,200,0,.25)\" font-size=\"12\" text-anchor=\"middle\" x=\"370.000000\" y=\"262.000000\">E coli\n",
       "                       </text><text fill=\"rgba(0,0,200,.25)\" font-size=\"12\" text-anchor=\"middle\" x=\"370.000000\" y=\"274.000000\">PVIB\n",
       "                       </text><text fill=\"rgba(200,0,0,.25)\" font-size=\"12\" text-anchor=\"middle\" x=\"370.000000\" y=\"226.000000\">amp\n",
       "                       </text><g transform=\"translate(320.0,200.0)\"><polyline points=\"0.0,95.3910614525 5.88235294118,97.905027933 11.7647058824,94.8324022346 17.6470588235,95.530726257 23.5294117647,96.3687150838 29.4117647059,96.5083798883 35.2941176471,96.6480446927 41.1764705882,96.3687150838 47.0588235294,94.1340782123 52.9411764706,96.9273743017 58.8235294118,95.9497206704 64.7058823529,97.2067039106 70.5882352941,96.0893854749 76.4705882353,96.3687150838 82.3529411765,95.9497206704 88.2352941176,97.625698324 94.1176470588,96.2290502793 100.0,96.2290502793\" style=\"fill:none;stroke:rgba(100,140,180,1);stroke-width:2\"/></g><circle cx=\"490.000000\" cy=\"250.000000\" fill=\"none\" r=\"50.000000\" stroke=\"rgba(0,0,0,.15)\"/><text fill=\"rgba(0,0,0,.25)\" font-size=\"20\" text-anchor=\"middle\" x=\"490.000000\" y=\"250.000000\">C5\n",
       "                   </text><text fill=\"rgba(0,200,0,.25)\" font-size=\"12\" text-anchor=\"middle\" x=\"490.000000\" y=\"262.000000\">E coli\n",
       "                       </text><text fill=\"rgba(200,0,0,.25)\" font-size=\"12\" text-anchor=\"middle\" x=\"490.000000\" y=\"226.000000\">amp\n",
       "                       </text><g transform=\"translate(440.0,200.0)\"><polyline points=\"0.0,96.9273743017 5.88235294118,97.0670391061 11.7647058824,97.2067039106 17.6470588235,96.9273743017 23.5294117647,97.0670391061 29.4117647059,95.6703910615 35.2941176471,97.905027933 41.1764705882,95.3910614525 47.0588235294,97.0670391061 52.9411764706,97.0670391061 58.8235294118,97.2067039106 64.7058823529,94.6927374302 70.5882352941,97.3463687151 76.4705882353,96.3687150838 82.3529411765,96.2290502793 88.2352941176,96.7877094972 94.1176470588,97.2067039106 100.0,95.1117318436\" style=\"fill:none;stroke:rgba(100,140,180,1);stroke-width:2\"/></g><circle cx=\"610.000000\" cy=\"250.000000\" fill=\"none\" r=\"50.000000\" stroke=\"rgba(0,0,0,.15)\"/><text fill=\"rgba(0,0,0,.25)\" font-size=\"20\" text-anchor=\"middle\" x=\"610.000000\" y=\"250.000000\">C6\n",
       "                   </text><text fill=\"rgba(200,0,0,.25)\" font-size=\"12\" text-anchor=\"middle\" x=\"610.000000\" y=\"226.000000\">amp\n",
       "                       </text><g transform=\"translate(560.0,200.0)\"><polyline points=\"0.0,95.530726257 5.88235294118,95.530726257 11.7647058824,96.3687150838 17.6470588235,97.0670391061 23.5294117647,98.1843575419 29.4117647059,95.9497206704 35.2941176471,97.0670391061 41.1764705882,96.0893854749 47.0588235294,97.3463687151 52.9411764706,96.6480446927 58.8235294118,98.0446927374 64.7058823529,95.1117318436 70.5882352941,96.3687150838 76.4705882353,95.1117318436 82.3529411765,96.9273743017 88.2352941176,95.251396648 94.1176470588,95.251396648 100.0,94.6927374302\" style=\"fill:none;stroke:rgba(100,140,180,1);stroke-width:2\"/></g><circle cx=\"10.000000\" cy=\"370.000000\" fill=\"none\" r=\"50.000000\" stroke=\"rgba(0,0,0,.15)\"/><text fill=\"rgba(0,0,0,.25)\" font-size=\"20\" text-anchor=\"middle\" x=\"10.000000\" y=\"370.000000\">D1\n",
       "                   </text><text fill=\"rgba(0,200,0,.25)\" font-size=\"12\" text-anchor=\"middle\" x=\"10.000000\" y=\"382.000000\">E coli\n",
       "                       </text><text fill=\"rgba(0,0,200,.25)\" font-size=\"12\" text-anchor=\"middle\" x=\"10.000000\" y=\"394.000000\">PVIB\n",
       "                       </text><g transform=\"translate(-40.0,320.0)\"><polyline points=\"0.0,94.8324022346 5.88235294118,97.4860335196 11.7647058824,97.4860335196 17.6470588235,97.4860335196 23.5294117647,95.3910614525 29.4117647059,95.530726257 35.2941176471,96.6480446927 41.1764705882,95.251396648 47.0588235294,97.0670391061 52.9411764706,98.1843575419 58.8235294118,94.9720670391 64.7058823529,96.0893854749 70.5882352941,96.5083798883 76.4705882353,96.9273743017 82.3529411765,96.0893854749 88.2352941176,96.5083798883 94.1176470588,95.9497206704 100.0,95.530726257\" style=\"fill:none;stroke:rgba(100,140,180,1);stroke-width:2\"/></g><circle cx=\"130.000000\" cy=\"370.000000\" fill=\"none\" r=\"50.000000\" stroke=\"rgba(0,0,0,.15)\"/><text fill=\"rgba(0,0,0,.25)\" font-size=\"20\" text-anchor=\"middle\" x=\"130.000000\" y=\"370.000000\">D2\n",
       "                   </text><text fill=\"rgba(0,200,0,.25)\" font-size=\"12\" text-anchor=\"middle\" x=\"130.000000\" y=\"382.000000\">E coli\n",
       "                       </text><g transform=\"translate(80.0,320.0)\"><polyline points=\"0.0,93.9944134078 5.88235294118,95.251396648 11.7647058824,96.6480446927 17.6470588235,97.4860335196 23.5294117647,94.4134078212 29.4117647059,95.530726257 35.2941176471,98.8826815642 41.1764705882,97.0670391061 47.0588235294,96.5083798883 52.9411764706,97.905027933 58.8235294118,96.0893854749 64.7058823529,97.0670391061 70.5882352941,97.4860335196 76.4705882353,96.6480446927 82.3529411765,97.625698324 88.2352941176,95.9497206704 94.1176470588,96.3687150838 100.0,96.6480446927\" style=\"fill:none;stroke:rgba(100,140,180,1);stroke-width:2\"/></g><circle cx=\"250.000000\" cy=\"370.000000\" fill=\"none\" r=\"50.000000\" stroke=\"rgba(0,0,0,.15)\"/><text fill=\"rgba(0,0,0,.25)\" font-size=\"20\" text-anchor=\"middle\" x=\"250.000000\" y=\"370.000000\">D3\n",
       "                   </text><g transform=\"translate(200.0,320.0)\"><polyline points=\"0.0,95.530726257 5.88235294118,98.4636871508 11.7647058824,95.8100558659 17.6470588235,95.3910614525 23.5294117647,95.9497206704 29.4117647059,96.0893854749 35.2941176471,97.905027933 41.1764705882,97.7653631285 47.0588235294,96.0893854749 52.9411764706,97.4860335196 58.8235294118,96.5083798883 64.7058823529,96.2290502793 70.5882352941,95.251396648 76.4705882353,97.2067039106 82.3529411765,97.0670391061 88.2352941176,96.7877094972 94.1176470588,96.7877094972 100.0,96.0893854749\" style=\"fill:none;stroke:rgba(100,140,180,1);stroke-width:2\"/></g><circle cx=\"370.000000\" cy=\"370.000000\" fill=\"none\" r=\"50.000000\" stroke=\"rgba(0,0,0,.15)\"/><text fill=\"rgba(0,0,0,.25)\" font-size=\"20\" text-anchor=\"middle\" x=\"370.000000\" y=\"370.000000\">D4\n",
       "                   </text><text fill=\"rgba(0,200,0,.25)\" font-size=\"12\" text-anchor=\"middle\" x=\"370.000000\" y=\"382.000000\">E coli\n",
       "                       </text><text fill=\"rgba(0,0,200,.25)\" font-size=\"12\" text-anchor=\"middle\" x=\"370.000000\" y=\"394.000000\">PVIB\n",
       "                       </text><text fill=\"rgba(200,0,0,.25)\" font-size=\"12\" text-anchor=\"middle\" x=\"370.000000\" y=\"346.000000\">amp\n",
       "                       </text><g transform=\"translate(320.0,320.0)\"><polyline points=\"0.0,94.6927374302 5.88235294118,95.530726257 11.7647058824,96.5083798883 17.6470588235,95.9497206704 23.5294117647,97.2067039106 29.4117647059,96.6480446927 35.2941176471,97.2067039106 41.1764705882,96.9273743017 47.0588235294,97.2067039106 52.9411764706,97.3463687151 58.8235294118,95.8100558659 64.7058823529,96.7877094972 70.5882352941,95.251396648 76.4705882353,97.3463687151 82.3529411765,96.3687150838 88.2352941176,94.8324022346 94.1176470588,96.6480446927 100.0,95.1117318436\" style=\"fill:none;stroke:rgba(100,140,180,1);stroke-width:2\"/></g><circle cx=\"490.000000\" cy=\"370.000000\" fill=\"none\" r=\"50.000000\" stroke=\"rgba(0,0,0,.15)\"/><text fill=\"rgba(0,0,0,.25)\" font-size=\"20\" text-anchor=\"middle\" x=\"490.000000\" y=\"370.000000\">D5\n",
       "                   </text><text fill=\"rgba(0,200,0,.25)\" font-size=\"12\" text-anchor=\"middle\" x=\"490.000000\" y=\"382.000000\">E coli\n",
       "                       </text><text fill=\"rgba(200,0,0,.25)\" font-size=\"12\" text-anchor=\"middle\" x=\"490.000000\" y=\"346.000000\">amp\n",
       "                       </text><g transform=\"translate(440.0,320.0)\"><polyline points=\"0.0,94.6927374302 5.88235294118,94.8324022346 11.7647058824,95.3910614525 17.6470588235,97.625698324 23.5294117647,97.3463687151 29.4117647059,97.4860335196 35.2941176471,97.3463687151 41.1764705882,95.8100558659 47.0588235294,95.9497206704 52.9411764706,96.7877094972 58.8235294118,96.5083798883 64.7058823529,94.9720670391 70.5882352941,96.9273743017 76.4705882353,95.3910614525 82.3529411765,95.9497206704 88.2352941176,97.4860335196 94.1176470588,94.6927374302 100.0,94.6927374302\" style=\"fill:none;stroke:rgba(100,140,180,1);stroke-width:2\"/></g><circle cx=\"610.000000\" cy=\"370.000000\" fill=\"none\" r=\"50.000000\" stroke=\"rgba(0,0,0,.15)\"/><text fill=\"rgba(0,0,0,.25)\" font-size=\"20\" text-anchor=\"middle\" x=\"610.000000\" y=\"370.000000\">D6\n",
       "                   </text><text fill=\"rgba(200,0,0,.25)\" font-size=\"12\" text-anchor=\"middle\" x=\"610.000000\" y=\"346.000000\">amp\n",
       "                       </text><g transform=\"translate(560.0,320.0)\"><polyline points=\"0.0,95.3910614525 5.88235294118,95.8100558659 11.7647058824,94.1340782123 17.6470588235,97.2067039106 23.5294117647,96.9273743017 29.4117647059,95.251396648 35.2941176471,96.3687150838 41.1764705882,96.7877094972 47.0588235294,95.3910614525 52.9411764706,97.905027933 58.8235294118,94.9720670391 64.7058823529,96.2290502793 70.5882352941,96.2290502793 76.4705882353,96.5083798883 82.3529411765,97.2067039106 88.2352941176,95.6703910615 94.1176470588,94.6927374302 100.0,96.7877094972\" style=\"fill:none;stroke:rgba(100,140,180,1);stroke-width:2\"/></g><circle cx=\"10.000000\" cy=\"490.000000\" fill=\"none\" r=\"50.000000\" stroke=\"rgba(0,0,0,.15)\"/><text fill=\"rgba(0,0,0,.25)\" font-size=\"20\" text-anchor=\"middle\" x=\"10.000000\" y=\"490.000000\">E1\n",
       "                   </text><text fill=\"rgba(0,200,0,.25)\" font-size=\"12\" text-anchor=\"middle\" x=\"10.000000\" y=\"502.000000\">E coli\n",
       "                       </text><text fill=\"rgba(0,0,200,.25)\" font-size=\"12\" text-anchor=\"middle\" x=\"10.000000\" y=\"514.000000\">PVIB\n",
       "                       </text><g transform=\"translate(-40.0,440.0)\"><polyline points=\"0.0,94.6927374302 5.88235294118,96.9273743017 11.7647058824,95.6703910615 17.6470588235,94.9720670391 23.5294117647,95.9497206704 29.4117647059,95.1117318436 35.2941176471,98.4636871508 41.1764705882,95.6703910615 47.0588235294,97.905027933 52.9411764706,96.0893854749 58.8235294118,96.6480446927 64.7058823529,96.2290502793 70.5882352941,95.1117318436 76.4705882353,97.3463687151 82.3529411765,95.530726257 88.2352941176,95.3910614525 94.1176470588,94.8324022346 100.0,98.0446927374\" style=\"fill:none;stroke:rgba(100,140,180,1);stroke-width:2\"/></g><circle cx=\"130.000000\" cy=\"490.000000\" fill=\"none\" r=\"50.000000\" stroke=\"rgba(0,0,0,.15)\"/><text fill=\"rgba(0,0,0,.25)\" font-size=\"20\" text-anchor=\"middle\" x=\"130.000000\" y=\"490.000000\">E2\n",
       "                   </text><text fill=\"rgba(0,200,0,.25)\" font-size=\"12\" text-anchor=\"middle\" x=\"130.000000\" y=\"502.000000\">E coli\n",
       "                       </text><g transform=\"translate(80.0,440.0)\"><polyline points=\"0.0,93.7150837989 5.88235294118,96.5083798883 11.7647058824,96.7877094972 17.6470588235,96.5083798883 23.5294117647,96.3687150838 29.4117647059,96.0893854749 35.2941176471,98.8826815642 41.1764705882,95.6703910615 47.0588235294,96.0893854749 52.9411764706,98.1843575419 58.8235294118,96.6480446927 64.7058823529,96.7877094972 70.5882352941,95.8100558659 76.4705882353,97.2067039106 82.3529411765,97.4860335196 88.2352941176,96.0893854749 94.1176470588,95.1117318436 100.0,96.7877094972\" style=\"fill:none;stroke:rgba(100,140,180,1);stroke-width:2\"/></g><circle cx=\"250.000000\" cy=\"490.000000\" fill=\"none\" r=\"50.000000\" stroke=\"rgba(0,0,0,.15)\"/><text fill=\"rgba(0,0,0,.25)\" font-size=\"20\" text-anchor=\"middle\" x=\"250.000000\" y=\"490.000000\">E3\n",
       "                   </text><g transform=\"translate(200.0,440.0)\"><polyline points=\"0.0,95.9497206704 5.88235294118,96.9273743017 11.7647058824,95.3910614525 17.6470588235,97.2067039106 23.5294117647,97.3463687151 29.4117647059,94.8324022346 35.2941176471,97.3463687151 41.1764705882,95.9497206704 47.0588235294,96.3687150838 52.9411764706,97.2067039106 58.8235294118,94.6927374302 64.7058823529,96.0893854749 70.5882352941,96.3687150838 76.4705882353,95.6703910615 82.3529411765,96.0893854749 88.2352941176,96.6480446927 94.1176470588,96.7877094972 100.0,96.6480446927\" style=\"fill:none;stroke:rgba(100,140,180,1);stroke-width:2\"/></g><circle cx=\"370.000000\" cy=\"490.000000\" fill=\"none\" r=\"50.000000\" stroke=\"rgba(0,0,0,.15)\"/><text fill=\"rgba(0,0,0,.25)\" font-size=\"20\" text-anchor=\"middle\" x=\"370.000000\" y=\"490.000000\">E4\n",
       "                   </text><text fill=\"rgba(0,200,0,.25)\" font-size=\"12\" text-anchor=\"middle\" x=\"370.000000\" y=\"502.000000\">E coli\n",
       "                       </text><text fill=\"rgba(0,0,200,.25)\" font-size=\"12\" text-anchor=\"middle\" x=\"370.000000\" y=\"514.000000\">PVIB\n",
       "                       </text><text fill=\"rgba(200,0,0,.25)\" font-size=\"12\" text-anchor=\"middle\" x=\"370.000000\" y=\"466.000000\">amp\n",
       "                       </text><g transform=\"translate(320.0,440.0)\"><polyline points=\"0.0,95.1117318436 5.88235294118,97.7653631285 11.7647058824,96.2290502793 17.6470588235,97.625698324 23.5294117647,97.3463687151 29.4117647059,96.2290502793 35.2941176471,97.625698324 41.1764705882,97.4860335196 47.0588235294,96.0893854749 52.9411764706,96.3687150838 58.8235294118,96.7877094972 64.7058823529,95.3910614525 70.5882352941,94.5530726257 76.4705882353,96.2290502793 82.3529411765,96.2290502793 88.2352941176,95.530726257 94.1176470588,96.2290502793 100.0,95.251396648\" style=\"fill:none;stroke:rgba(100,140,180,1);stroke-width:2\"/></g><circle cx=\"490.000000\" cy=\"490.000000\" fill=\"none\" r=\"50.000000\" stroke=\"rgba(0,0,0,.15)\"/><text fill=\"rgba(0,0,0,.25)\" font-size=\"20\" text-anchor=\"middle\" x=\"490.000000\" y=\"490.000000\">E5\n",
       "                   </text><text fill=\"rgba(0,200,0,.25)\" font-size=\"12\" text-anchor=\"middle\" x=\"490.000000\" y=\"502.000000\">E coli\n",
       "                       </text><text fill=\"rgba(200,0,0,.25)\" font-size=\"12\" text-anchor=\"middle\" x=\"490.000000\" y=\"466.000000\">amp\n",
       "                       </text><g transform=\"translate(440.0,440.0)\"><polyline points=\"0.0,96.0893854749 5.88235294118,96.0893854749 11.7647058824,95.8100558659 17.6470588235,96.7877094972 23.5294117647,97.905027933 29.4117647059,95.251396648 35.2941176471,97.7653631285 41.1764705882,97.625698324 47.0588235294,97.2067039106 52.9411764706,95.8100558659 58.8235294118,97.3463687151 64.7058823529,97.2067039106 70.5882352941,96.0893854749 76.4705882353,97.3463687151 82.3529411765,96.9273743017 88.2352941176,97.4860335196 94.1176470588,96.9273743017 100.0,95.6703910615\" style=\"fill:none;stroke:rgba(100,140,180,1);stroke-width:2\"/></g><circle cx=\"610.000000\" cy=\"490.000000\" fill=\"none\" r=\"50.000000\" stroke=\"rgba(0,0,0,.15)\"/><text fill=\"rgba(0,0,0,.25)\" font-size=\"20\" text-anchor=\"middle\" x=\"610.000000\" y=\"490.000000\">E6\n",
       "                   </text><text fill=\"rgba(200,0,0,.25)\" font-size=\"12\" text-anchor=\"middle\" x=\"610.000000\" y=\"466.000000\">amp\n",
       "                       </text><g transform=\"translate(560.0,440.0)\"><polyline points=\"0.0,95.6703910615 5.88235294118,97.2067039106 11.7647058824,95.251396648 17.6470588235,95.6703910615 23.5294117647,96.2290502793 29.4117647059,96.9273743017 35.2941176471,96.0893854749 41.1764705882,97.905027933 47.0588235294,97.2067039106 52.9411764706,97.2067039106 58.8235294118,96.9273743017 64.7058823529,96.6480446927 70.5882352941,96.3687150838 76.4705882353,95.9497206704 82.3529411765,95.1117318436 88.2352941176,97.0670391061 94.1176470588,97.625698324 100.0,95.9497206704\" style=\"fill:none;stroke:rgba(100,140,180,1);stroke-width:2\"/></g><circle cx=\"10.000000\" cy=\"610.000000\" fill=\"none\" r=\"50.000000\" stroke=\"rgba(0,0,0,.15)\"/><text fill=\"rgba(0,0,0,.25)\" font-size=\"20\" text-anchor=\"middle\" x=\"10.000000\" y=\"610.000000\">F1\n",
       "                   </text><text fill=\"rgba(0,200,0,.25)\" font-size=\"12\" text-anchor=\"middle\" x=\"10.000000\" y=\"622.000000\">E coli\n",
       "                       </text><text fill=\"rgba(0,0,200,.25)\" font-size=\"12\" text-anchor=\"middle\" x=\"10.000000\" y=\"634.000000\">PVIB\n",
       "                       </text><g transform=\"translate(-40.0,560.0)\"><polyline points=\"0.0,95.3910614525 5.88235294118,97.4860335196 11.7647058824,96.3687150838 17.6470588235,97.0670391061 23.5294117647,97.905027933 29.4117647059,94.4134078212 35.2941176471,96.0893854749 41.1764705882,97.2067039106 47.0588235294,96.5083798883 52.9411764706,98.1843575419 58.8235294118,96.7877094972 64.7058823529,95.3910614525 70.5882352941,95.8100558659 76.4705882353,95.6703910615 82.3529411765,96.0893854749 88.2352941176,96.3687150838 94.1176470588,95.3910614525 100.0,95.251396648\" style=\"fill:none;stroke:rgba(100,140,180,1);stroke-width:2\"/></g><circle cx=\"130.000000\" cy=\"610.000000\" fill=\"none\" r=\"50.000000\" stroke=\"rgba(0,0,0,.15)\"/><text fill=\"rgba(0,0,0,.25)\" font-size=\"20\" text-anchor=\"middle\" x=\"130.000000\" y=\"610.000000\">F2\n",
       "                   </text><text fill=\"rgba(0,200,0,.25)\" font-size=\"12\" text-anchor=\"middle\" x=\"130.000000\" y=\"622.000000\">E coli\n",
       "                       </text><g transform=\"translate(80.0,560.0)\"><polyline points=\"0.0,95.3910614525 5.88235294118,96.0893854749 11.7647058824,94.5530726257 17.6470588235,96.6480446927 23.5294117647,96.7877094972 29.4117647059,95.9497206704 35.2941176471,98.1843575419 41.1764705882,95.9497206704 47.0588235294,96.9273743017 52.9411764706,98.0446927374 58.8235294118,95.9497206704 64.7058823529,95.9497206704 70.5882352941,97.3463687151 76.4705882353,97.2067039106 82.3529411765,94.9720670391 88.2352941176,96.5083798883 94.1176470588,93.5754189944 100.0,96.5083798883\" style=\"fill:none;stroke:rgba(100,140,180,1);stroke-width:2\"/></g><circle cx=\"250.000000\" cy=\"610.000000\" fill=\"none\" r=\"50.000000\" stroke=\"rgba(0,0,0,.15)\"/><text fill=\"rgba(0,0,0,.25)\" font-size=\"20\" text-anchor=\"middle\" x=\"250.000000\" y=\"610.000000\">F3\n",
       "                   </text><g transform=\"translate(200.0,560.0)\"><polyline points=\"0.0,95.3910614525 5.88235294118,98.3240223464 11.7647058824,97.2067039106 17.6470588235,96.3687150838 23.5294117647,97.7653631285 29.4117647059,96.0893854749 35.2941176471,98.7430167598 41.1764705882,97.625698324 47.0588235294,97.625698324 52.9411764706,95.6703910615 58.8235294118,96.3687150838 64.7058823529,94.2737430168 70.5882352941,96.0893854749 76.4705882353,97.2067039106 82.3529411765,95.3910614525 88.2352941176,97.4860335196 94.1176470588,96.3687150838 100.0,94.6927374302\" style=\"fill:none;stroke:rgba(100,140,180,1);stroke-width:2\"/></g><circle cx=\"370.000000\" cy=\"610.000000\" fill=\"none\" r=\"50.000000\" stroke=\"rgba(0,0,0,.15)\"/><text fill=\"rgba(0,0,0,.25)\" font-size=\"20\" text-anchor=\"middle\" x=\"370.000000\" y=\"610.000000\">F4\n",
       "                   </text><text fill=\"rgba(0,200,0,.25)\" font-size=\"12\" text-anchor=\"middle\" x=\"370.000000\" y=\"622.000000\">E coli\n",
       "                       </text><text fill=\"rgba(0,0,200,.25)\" font-size=\"12\" text-anchor=\"middle\" x=\"370.000000\" y=\"634.000000\">PVIB\n",
       "                       </text><text fill=\"rgba(200,0,0,.25)\" font-size=\"12\" text-anchor=\"middle\" x=\"370.000000\" y=\"586.000000\">amp\n",
       "                       </text><g transform=\"translate(320.0,560.0)\"><polyline points=\"0.0,94.9720670391 5.88235294118,96.6480446927 11.7647058824,97.7653631285 17.6470588235,94.9720670391 23.5294117647,95.251396648 29.4117647059,97.4860335196 35.2941176471,96.3687150838 41.1764705882,96.9273743017 47.0588235294,95.530726257 52.9411764706,97.625698324 58.8235294118,95.9497206704 64.7058823529,94.8324022346 70.5882352941,0.0 76.4705882353,84.6368715084 82.3529411765,76.9553072626 88.2352941176,68.5754189944 94.1176470588,95.1117318436 100.0,95.530726257\" style=\"fill:none;stroke:rgba(100,140,180,1);stroke-width:2\"/></g><circle cx=\"490.000000\" cy=\"610.000000\" fill=\"none\" r=\"50.000000\" stroke=\"rgba(0,0,0,.15)\"/><text fill=\"rgba(0,0,0,.25)\" font-size=\"20\" text-anchor=\"middle\" x=\"490.000000\" y=\"610.000000\">F5\n",
       "                   </text><text fill=\"rgba(0,200,0,.25)\" font-size=\"12\" text-anchor=\"middle\" x=\"490.000000\" y=\"622.000000\">E coli\n",
       "                       </text><text fill=\"rgba(200,0,0,.25)\" font-size=\"12\" text-anchor=\"middle\" x=\"490.000000\" y=\"586.000000\">amp\n",
       "                       </text><g transform=\"translate(440.0,560.0)\"><polyline points=\"0.0,95.9497206704 5.88235294118,95.530726257 11.7647058824,96.0893854749 17.6470588235,96.2290502793 23.5294117647,96.7877094972 29.4117647059,97.625698324 35.2941176471,98.6033519553 41.1764705882,96.9273743017 47.0588235294,94.4134078212 52.9411764706,96.0893854749 58.8235294118,96.6480446927 64.7058823529,95.8100558659 70.5882352941,96.9273743017 76.4705882353,96.9273743017 82.3529411765,98.3240223464 88.2352941176,96.2290502793 94.1176470588,95.8100558659 100.0,96.5083798883\" style=\"fill:none;stroke:rgba(100,140,180,1);stroke-width:2\"/></g><circle cx=\"610.000000\" cy=\"610.000000\" fill=\"none\" r=\"50.000000\" stroke=\"rgba(0,0,0,.15)\"/><text fill=\"rgba(0,0,0,.25)\" font-size=\"20\" text-anchor=\"middle\" x=\"610.000000\" y=\"610.000000\">F6\n",
       "                   </text><text fill=\"rgba(200,0,0,.25)\" font-size=\"12\" text-anchor=\"middle\" x=\"610.000000\" y=\"586.000000\">amp\n",
       "                       </text><g transform=\"translate(560.0,560.0)\"><polyline points=\"0.0,96.6480446927 5.88235294118,97.0670391061 11.7647058824,97.2067039106 17.6470588235,95.3910614525 23.5294117647,96.3687150838 29.4117647059,94.9720670391 35.2941176471,96.2290502793 41.1764705882,97.7653631285 47.0588235294,98.1843575419 52.9411764706,97.0670391061 58.8235294118,95.3910614525 64.7058823529,96.7877094972 70.5882352941,96.9273743017 76.4705882353,98.4636871508 82.3529411765,97.2067039106 88.2352941176,97.2067039106 94.1176470588,96.9273743017 100.0,94.5530726257\" style=\"fill:none;stroke:rgba(100,140,180,1);stroke-width:2\"/></g></g></svg>"
      ],
      "text/plain": [
       "<IPython.core.display.SVG object>"
      ]
     },
     "metadata": {},
     "output_type": "display_data"
    }
   ],
   "source": [
    "plot_df(df_lum, \"Time\", \"Luminescence\")"
   ]
  },
  {
   "cell_type": "markdown",
   "metadata": {},
   "source": [
    "Image Capture\n",
    "=======\n",
    "Finally, we take photos of *E. coli* growing in plates, before and after incubation. \n",
    "\n",
    "    G plates have no amp, H plates have amp\n",
    "    [GH]1 has E. coli and PVIB\n",
    "    [GH]2 has E. coli and no PVIB\n",
    "    [GH]3 has no E. coli\n",
    "\n",
    "That the H plates are all empty is not surprising because we know from the experiment above that PVIB transformation is not efficient. There is something strange going on here with the Gs though, \n",
    "where G3 is showing growth despite having no *E. coli* spread, while G1 has no growth when it should.\n",
    "\n",
    "I am currently assuming the images are reversed from what I expect, but I don't know why... The Transcriptic UI is quite explicit about which plate is which."
   ]
  },
  {
   "cell_type": "code",
   "execution_count": 485,
   "metadata": {
    "collapsed": false
   },
   "outputs": [
    {
     "data": {
      "image/svg+xml": [
       "<svg height=\"800px\" version=\"1.1\" width=\"1200px\" xmlns=\"http://www.w3.org/2000/svg\" xmlns:xlink=\"http://www.w3.org/1999/xlink\"><g transform=\"translate(0.0,0.0)\"><image height=\"384px\" width=\"512px\" x=\"0\" xlink:href=\"imagePlate_108.png\" y=\"0\"/><text fill=\"#dd2222\" font-size=\"20\" x=\"20\" y=\"20\">before incubation, no amp</text><text fill=\"#2222dd\" font-size=\"15\" x=\"100\" y=\"190\">G1,50μl\n",
       "                   </text><text fill=\"#2222dd\" font-size=\"15\" x=\"220\" y=\"190\">G2,50μl\n",
       "                   </text><text fill=\"#2222dd\" font-size=\"15\" x=\"340\" y=\"190\">G3,50μl\n",
       "                   </text><text fill=\"#2222dd\" font-size=\"15\" x=\"100\" y=\"320\">G1,100μl\n",
       "                   </text><text fill=\"#2222dd\" font-size=\"15\" x=\"220\" y=\"320\">G2,100μl\n",
       "                   </text><text fill=\"#2222dd\" font-size=\"15\" x=\"340\" y=\"320\">G3,100μl\n",
       "                   </text></g><g transform=\"translate(522.24,0.0)\"><image height=\"384px\" width=\"512px\" x=\"0\" xlink:href=\"imagePlate_112.png\" y=\"0\"/><text fill=\"#dd2222\" font-size=\"20\" x=\"20\" y=\"20\">after incubation, no amp</text><text fill=\"#2222dd\" font-size=\"15\" x=\"100\" y=\"190\">G1,50μl\n",
       "                   </text><text fill=\"#2222dd\" font-size=\"15\" x=\"220\" y=\"190\">G2,50μl\n",
       "                   </text><text fill=\"#2222dd\" font-size=\"15\" x=\"340\" y=\"190\">G3,50μl\n",
       "                   </text><text fill=\"#2222dd\" font-size=\"15\" x=\"100\" y=\"320\">G1,100μl\n",
       "                   </text><text fill=\"#2222dd\" font-size=\"15\" x=\"220\" y=\"320\">G2,100μl\n",
       "                   </text><text fill=\"#2222dd\" font-size=\"15\" x=\"340\" y=\"320\">G3,100μl\n",
       "                   </text></g><g transform=\"translate(0.0,391.68)\"><image height=\"384px\" width=\"512px\" x=\"0\" xlink:href=\"imagePlate_113.png\" y=\"0\"/><text fill=\"#dd2222\" font-size=\"20\" x=\"20\" y=\"20\">before incubation, with amp</text><text fill=\"#2222dd\" font-size=\"15\" x=\"100\" y=\"190\">H1,50μl\n",
       "                   </text><text fill=\"#2222dd\" font-size=\"15\" x=\"220\" y=\"190\">H2,50μl\n",
       "                   </text><text fill=\"#2222dd\" font-size=\"15\" x=\"340\" y=\"190\">H3,50μl\n",
       "                   </text><text fill=\"#2222dd\" font-size=\"15\" x=\"100\" y=\"320\">H1,100μl\n",
       "                   </text><text fill=\"#2222dd\" font-size=\"15\" x=\"220\" y=\"320\">H2,100μl\n",
       "                   </text><text fill=\"#2222dd\" font-size=\"15\" x=\"340\" y=\"320\">H3,100μl\n",
       "                   </text></g><g transform=\"translate(522.24,391.68)\"><image height=\"384px\" width=\"512px\" x=\"0\" xlink:href=\"imagePlate_117.png\" y=\"0\"/><text fill=\"#dd2222\" font-size=\"20\" x=\"20\" y=\"20\">after incubation, with amp</text><text fill=\"#2222dd\" font-size=\"15\" x=\"100\" y=\"190\">H1,50μl\n",
       "                   </text><text fill=\"#2222dd\" font-size=\"15\" x=\"220\" y=\"190\">H2,50μl\n",
       "                   </text><text fill=\"#2222dd\" font-size=\"15\" x=\"340\" y=\"190\">H3,50μl\n",
       "                   </text><text fill=\"#2222dd\" font-size=\"15\" x=\"100\" y=\"320\">H1,100μl\n",
       "                   </text><text fill=\"#2222dd\" font-size=\"15\" x=\"220\" y=\"320\">H2,100μl\n",
       "                   </text><text fill=\"#2222dd\" font-size=\"15\" x=\"340\" y=\"320\">H3,100μl\n",
       "                   </text></g></svg>"
      ],
      "text/plain": [
       "<IPython.core.display.SVG object>"
      ]
     },
     "metadata": {},
     "output_type": "display_data"
    }
   ],
   "source": [
    "data = [{'n':'108', 'desc':'before incubation, no amp', 'plates':['G1,50','G2,50','G3,50','G1,100','G2,100','G3,100']},\n",
    "        {'n':'112', 'desc':'after incubation, no amp', 'plates':['G1,50','G2,50','G3,50','G1,100','G2,100','G3,100']},\n",
    "        {'n':'113', 'desc':'before incubation, with amp', 'plates':['H1,50','H2,50','H3,50','H1,100','H2,100','H3,100']},\n",
    "        {'n':'117', 'desc':'after incubation, with amp', 'plates':['H1,50','H2,50','H3,50','H1,100','H2,100','H3,100']}\n",
    "        ]\n",
    "\n",
    "w, h = 512, 384 # hardcoded image size\n",
    "sw, sh = w*1.02, h*1.02\n",
    "mx, my = 100, 190\n",
    "px, py = 120, 130\n",
    "\n",
    "ssvg = ''\n",
    "for n, d in enumerate(data):\n",
    "    ssvg += '<g transform=\"translate({},{})\">'.format(sw*(n%2), sh*(n//2))\n",
    "    ssvg += '''<image xlink:href=\"imagePlate_{}.png\" x=\"0\" y=\"0\" width=\"{}px\" height=\"{}px\"\n",
    "               />'''.format(d['n'], w, h)\n",
    "    ssvg += '<text x=\"20\" y=\"20\" fill=\"#dd2222\" font-size=\"20\">{}</text>'.format(d['desc'])\n",
    "    for n2, pl in enumerate(d[\"plates\"]):\n",
    "        ssvg += '''<text x=\"{}\" y=\"{}\" fill=\"#2222dd\" font-size=\"15\">{}μl\n",
    "                   </text>'''.format(mx+px*(n2%3), my+py*(n2//3), pl)\n",
    "    ssvg += '</g>'\n",
    "show_svg(ssvg, w=1200, h=800)"
   ]
  },
  {
   "cell_type": "markdown",
   "metadata": {},
   "source": [
    "Conclusion\n",
    "======\n",
    "I think this experiment was moderately successful. \n",
    "It was not that expensive at about \\$20 for labor and \\$35 for reagents.\n",
    "The transformation and luciferase expression efficiency was pretty low, but I don't know what I'd expect if the experiment were performed by a skilled technician. \n",
    "\n",
    "There were a few minor issues on the Transcriptic side:\n",
    "\n",
    "    - The PNG images get downloaded as .raw files. Initially, I thought it was a camera RAW file, which didn't work...\n",
    "    - The UI mixes 0-indexing and 1-indexing, which is a bit confusing. I would enforce 1-indexing.\n",
    "    - The plate images may be reversed compared to the UI? This could be an error on my part though.\n",
    "    - The \"Download all\" feature did not download all the data (it missed the images).\n",
    "    - The csv files did not include the time at which readings were taken. I'd have to dig into the json files to get that."
   ]
  }
 ],
 "metadata": {
  "kernelspec": {
   "display_name": "Python 2",
   "language": "python",
   "name": "python2"
  },
  "language_info": {
   "codemirror_mode": {
    "name": "ipython",
    "version": 2
   },
   "file_extension": ".py",
   "mimetype": "text/x-python",
   "name": "python",
   "nbconvert_exporter": "python",
   "pygments_lexer": "ipython2",
   "version": "2.7.9"
  }
 },
 "nbformat": 4,
 "nbformat_minor": 0
}
